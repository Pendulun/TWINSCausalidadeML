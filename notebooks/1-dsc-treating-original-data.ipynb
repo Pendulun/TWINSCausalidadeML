{
 "cells": [
  {
   "cell_type": "code",
   "execution_count": 1,
   "metadata": {},
   "outputs": [],
   "source": [
    "import pandas as pd\n",
    "import matplotlib.pyplot as plt\n",
    "%matplotlib inline\n",
    "from pathlib import Path\n",
    "import numpy as np"
   ]
  },
  {
   "cell_type": "markdown",
   "metadata": {},
   "source": [
    "## Lendo principais dados dos pares de gêmeos"
   ]
  },
  {
   "cell_type": "code",
   "execution_count": 2,
   "metadata": {},
   "outputs": [],
   "source": [
    "twins_data_path = Path(\"../data/original/twin_pairs_X_3years_samesex.csv\")"
   ]
  },
  {
   "cell_type": "code",
   "execution_count": 3,
   "metadata": {},
   "outputs": [],
   "source": [
    "twins_data_df = pd.read_csv(twins_data_path)"
   ]
  },
  {
   "cell_type": "code",
   "execution_count": 4,
   "metadata": {},
   "outputs": [
    {
     "data": {
      "text/html": [
       "<div>\n",
       "<style scoped>\n",
       "    .dataframe tbody tr th:only-of-type {\n",
       "        vertical-align: middle;\n",
       "    }\n",
       "\n",
       "    .dataframe tbody tr th {\n",
       "        vertical-align: top;\n",
       "    }\n",
       "\n",
       "    .dataframe thead th {\n",
       "        text-align: right;\n",
       "    }\n",
       "</style>\n",
       "<table border=\"1\" class=\"dataframe\">\n",
       "  <thead>\n",
       "    <tr style=\"text-align: right;\">\n",
       "      <th></th>\n",
       "      <th>0</th>\n",
       "      <th>1</th>\n",
       "      <th>2</th>\n",
       "      <th>3</th>\n",
       "      <th>4</th>\n",
       "    </tr>\n",
       "  </thead>\n",
       "  <tbody>\n",
       "    <tr>\n",
       "      <th>Unnamed: 0.1</th>\n",
       "      <td>0.0</td>\n",
       "      <td>1.0</td>\n",
       "      <td>2.0</td>\n",
       "      <td>3.0</td>\n",
       "      <td>4.0</td>\n",
       "    </tr>\n",
       "    <tr>\n",
       "      <th>Unnamed: 0</th>\n",
       "      <td>0.0</td>\n",
       "      <td>1.0</td>\n",
       "      <td>2.0</td>\n",
       "      <td>3.0</td>\n",
       "      <td>4.0</td>\n",
       "    </tr>\n",
       "    <tr>\n",
       "      <th>pldel</th>\n",
       "      <td>1.0</td>\n",
       "      <td>1.0</td>\n",
       "      <td>1.0</td>\n",
       "      <td>1.0</td>\n",
       "      <td>1.0</td>\n",
       "    </tr>\n",
       "    <tr>\n",
       "      <th>birattnd</th>\n",
       "      <td>1.0</td>\n",
       "      <td>1.0</td>\n",
       "      <td>1.0</td>\n",
       "      <td>1.0</td>\n",
       "      <td>1.0</td>\n",
       "    </tr>\n",
       "    <tr>\n",
       "      <th>brstate</th>\n",
       "      <td>1.0</td>\n",
       "      <td>1.0</td>\n",
       "      <td>1.0</td>\n",
       "      <td>1.0</td>\n",
       "      <td>1.0</td>\n",
       "    </tr>\n",
       "    <tr>\n",
       "      <th>stoccfipb</th>\n",
       "      <td>1.0</td>\n",
       "      <td>1.0</td>\n",
       "      <td>1.0</td>\n",
       "      <td>1.0</td>\n",
       "      <td>1.0</td>\n",
       "    </tr>\n",
       "    <tr>\n",
       "      <th>mager8</th>\n",
       "      <td>3.0</td>\n",
       "      <td>3.0</td>\n",
       "      <td>5.0</td>\n",
       "      <td>4.0</td>\n",
       "      <td>5.0</td>\n",
       "    </tr>\n",
       "    <tr>\n",
       "      <th>ormoth</th>\n",
       "      <td>0.0</td>\n",
       "      <td>0.0</td>\n",
       "      <td>0.0</td>\n",
       "      <td>0.0</td>\n",
       "      <td>0.0</td>\n",
       "    </tr>\n",
       "    <tr>\n",
       "      <th>mrace</th>\n",
       "      <td>1.0</td>\n",
       "      <td>2.0</td>\n",
       "      <td>1.0</td>\n",
       "      <td>2.0</td>\n",
       "      <td>2.0</td>\n",
       "    </tr>\n",
       "    <tr>\n",
       "      <th>meduc6</th>\n",
       "      <td>NaN</td>\n",
       "      <td>3.0</td>\n",
       "      <td>5.0</td>\n",
       "      <td>1.0</td>\n",
       "      <td>4.0</td>\n",
       "    </tr>\n",
       "    <tr>\n",
       "      <th>dmar</th>\n",
       "      <td>1.0</td>\n",
       "      <td>0.0</td>\n",
       "      <td>1.0</td>\n",
       "      <td>1.0</td>\n",
       "      <td>0.0</td>\n",
       "    </tr>\n",
       "    <tr>\n",
       "      <th>mplbir</th>\n",
       "      <td>31.0</td>\n",
       "      <td>1.0</td>\n",
       "      <td>59.0</td>\n",
       "      <td>1.0</td>\n",
       "      <td>1.0</td>\n",
       "    </tr>\n",
       "    <tr>\n",
       "      <th>mpre5</th>\n",
       "      <td>1.0</td>\n",
       "      <td>1.0</td>\n",
       "      <td>1.0</td>\n",
       "      <td>2.0</td>\n",
       "      <td>1.0</td>\n",
       "    </tr>\n",
       "    <tr>\n",
       "      <th>adequacy</th>\n",
       "      <td>1.0</td>\n",
       "      <td>1.0</td>\n",
       "      <td>1.0</td>\n",
       "      <td>2.0</td>\n",
       "      <td>1.0</td>\n",
       "    </tr>\n",
       "    <tr>\n",
       "      <th>orfath</th>\n",
       "      <td>0.0</td>\n",
       "      <td>NaN</td>\n",
       "      <td>0.0</td>\n",
       "      <td>0.0</td>\n",
       "      <td>NaN</td>\n",
       "    </tr>\n",
       "    <tr>\n",
       "      <th>frace</th>\n",
       "      <td>1.0</td>\n",
       "      <td>NaN</td>\n",
       "      <td>1.0</td>\n",
       "      <td>2.0</td>\n",
       "      <td>NaN</td>\n",
       "    </tr>\n",
       "    <tr>\n",
       "      <th>birmon</th>\n",
       "      <td>1.0</td>\n",
       "      <td>1.0</td>\n",
       "      <td>1.0</td>\n",
       "      <td>1.0</td>\n",
       "      <td>1.0</td>\n",
       "    </tr>\n",
       "    <tr>\n",
       "      <th>gestat10</th>\n",
       "      <td>9.0</td>\n",
       "      <td>6.0</td>\n",
       "      <td>4.0</td>\n",
       "      <td>6.0</td>\n",
       "      <td>6.0</td>\n",
       "    </tr>\n",
       "    <tr>\n",
       "      <th>csex</th>\n",
       "      <td>1.0</td>\n",
       "      <td>1.0</td>\n",
       "      <td>0.0</td>\n",
       "      <td>0.0</td>\n",
       "      <td>0.0</td>\n",
       "    </tr>\n",
       "    <tr>\n",
       "      <th>anemia</th>\n",
       "      <td>0.0</td>\n",
       "      <td>0.0</td>\n",
       "      <td>0.0</td>\n",
       "      <td>0.0</td>\n",
       "      <td>0.0</td>\n",
       "    </tr>\n",
       "    <tr>\n",
       "      <th>cardiac</th>\n",
       "      <td>0.0</td>\n",
       "      <td>0.0</td>\n",
       "      <td>0.0</td>\n",
       "      <td>0.0</td>\n",
       "      <td>0.0</td>\n",
       "    </tr>\n",
       "    <tr>\n",
       "      <th>lung</th>\n",
       "      <td>0.0</td>\n",
       "      <td>0.0</td>\n",
       "      <td>0.0</td>\n",
       "      <td>0.0</td>\n",
       "      <td>0.0</td>\n",
       "    </tr>\n",
       "    <tr>\n",
       "      <th>diabetes</th>\n",
       "      <td>0.0</td>\n",
       "      <td>0.0</td>\n",
       "      <td>0.0</td>\n",
       "      <td>0.0</td>\n",
       "      <td>0.0</td>\n",
       "    </tr>\n",
       "    <tr>\n",
       "      <th>herpes</th>\n",
       "      <td>0.0</td>\n",
       "      <td>0.0</td>\n",
       "      <td>0.0</td>\n",
       "      <td>0.0</td>\n",
       "      <td>0.0</td>\n",
       "    </tr>\n",
       "    <tr>\n",
       "      <th>hydra</th>\n",
       "      <td>0.0</td>\n",
       "      <td>0.0</td>\n",
       "      <td>0.0</td>\n",
       "      <td>0.0</td>\n",
       "      <td>0.0</td>\n",
       "    </tr>\n",
       "    <tr>\n",
       "      <th>hemo</th>\n",
       "      <td>0.0</td>\n",
       "      <td>0.0</td>\n",
       "      <td>0.0</td>\n",
       "      <td>0.0</td>\n",
       "      <td>0.0</td>\n",
       "    </tr>\n",
       "    <tr>\n",
       "      <th>chyper</th>\n",
       "      <td>0.0</td>\n",
       "      <td>0.0</td>\n",
       "      <td>0.0</td>\n",
       "      <td>0.0</td>\n",
       "      <td>0.0</td>\n",
       "    </tr>\n",
       "    <tr>\n",
       "      <th>phyper</th>\n",
       "      <td>0.0</td>\n",
       "      <td>1.0</td>\n",
       "      <td>0.0</td>\n",
       "      <td>0.0</td>\n",
       "      <td>0.0</td>\n",
       "    </tr>\n",
       "    <tr>\n",
       "      <th>eclamp</th>\n",
       "      <td>0.0</td>\n",
       "      <td>0.0</td>\n",
       "      <td>0.0</td>\n",
       "      <td>0.0</td>\n",
       "      <td>0.0</td>\n",
       "    </tr>\n",
       "    <tr>\n",
       "      <th>incervix</th>\n",
       "      <td>0.0</td>\n",
       "      <td>0.0</td>\n",
       "      <td>0.0</td>\n",
       "      <td>0.0</td>\n",
       "      <td>0.0</td>\n",
       "    </tr>\n",
       "    <tr>\n",
       "      <th>pre4000</th>\n",
       "      <td>0.0</td>\n",
       "      <td>0.0</td>\n",
       "      <td>0.0</td>\n",
       "      <td>0.0</td>\n",
       "      <td>0.0</td>\n",
       "    </tr>\n",
       "    <tr>\n",
       "      <th>preterm</th>\n",
       "      <td>0.0</td>\n",
       "      <td>0.0</td>\n",
       "      <td>0.0</td>\n",
       "      <td>0.0</td>\n",
       "      <td>0.0</td>\n",
       "    </tr>\n",
       "    <tr>\n",
       "      <th>renal</th>\n",
       "      <td>0.0</td>\n",
       "      <td>0.0</td>\n",
       "      <td>0.0</td>\n",
       "      <td>0.0</td>\n",
       "      <td>0.0</td>\n",
       "    </tr>\n",
       "    <tr>\n",
       "      <th>rh</th>\n",
       "      <td>0.0</td>\n",
       "      <td>0.0</td>\n",
       "      <td>0.0</td>\n",
       "      <td>0.0</td>\n",
       "      <td>0.0</td>\n",
       "    </tr>\n",
       "    <tr>\n",
       "      <th>uterine</th>\n",
       "      <td>0.0</td>\n",
       "      <td>0.0</td>\n",
       "      <td>0.0</td>\n",
       "      <td>0.0</td>\n",
       "      <td>0.0</td>\n",
       "    </tr>\n",
       "    <tr>\n",
       "      <th>othermr</th>\n",
       "      <td>0.0</td>\n",
       "      <td>0.0</td>\n",
       "      <td>0.0</td>\n",
       "      <td>0.0</td>\n",
       "      <td>0.0</td>\n",
       "    </tr>\n",
       "    <tr>\n",
       "      <th>tobacco</th>\n",
       "      <td>0.0</td>\n",
       "      <td>0.0</td>\n",
       "      <td>0.0</td>\n",
       "      <td>0.0</td>\n",
       "      <td>0.0</td>\n",
       "    </tr>\n",
       "    <tr>\n",
       "      <th>alcohol</th>\n",
       "      <td>0.0</td>\n",
       "      <td>0.0</td>\n",
       "      <td>0.0</td>\n",
       "      <td>0.0</td>\n",
       "      <td>0.0</td>\n",
       "    </tr>\n",
       "    <tr>\n",
       "      <th>cigar6</th>\n",
       "      <td>0.0</td>\n",
       "      <td>0.0</td>\n",
       "      <td>0.0</td>\n",
       "      <td>0.0</td>\n",
       "      <td>0.0</td>\n",
       "    </tr>\n",
       "    <tr>\n",
       "      <th>drink5</th>\n",
       "      <td>0.0</td>\n",
       "      <td>0.0</td>\n",
       "      <td>0.0</td>\n",
       "      <td>0.0</td>\n",
       "      <td>0.0</td>\n",
       "    </tr>\n",
       "    <tr>\n",
       "      <th>crace</th>\n",
       "      <td>1.0</td>\n",
       "      <td>2.0</td>\n",
       "      <td>1.0</td>\n",
       "      <td>2.0</td>\n",
       "      <td>2.0</td>\n",
       "    </tr>\n",
       "    <tr>\n",
       "      <th>data_year</th>\n",
       "      <td>89.0</td>\n",
       "      <td>89.0</td>\n",
       "      <td>89.0</td>\n",
       "      <td>89.0</td>\n",
       "      <td>89.0</td>\n",
       "    </tr>\n",
       "    <tr>\n",
       "      <th>nprevistq</th>\n",
       "      <td>4.0</td>\n",
       "      <td>3.0</td>\n",
       "      <td>1.0</td>\n",
       "      <td>1.0</td>\n",
       "      <td>2.0</td>\n",
       "    </tr>\n",
       "    <tr>\n",
       "      <th>dfageq</th>\n",
       "      <td>0.0</td>\n",
       "      <td>NaN</td>\n",
       "      <td>6.0</td>\n",
       "      <td>6.0</td>\n",
       "      <td>NaN</td>\n",
       "    </tr>\n",
       "    <tr>\n",
       "      <th>feduc6</th>\n",
       "      <td>NaN</td>\n",
       "      <td>NaN</td>\n",
       "      <td>3.0</td>\n",
       "      <td>1.0</td>\n",
       "      <td>NaN</td>\n",
       "    </tr>\n",
       "    <tr>\n",
       "      <th>infant_id_0</th>\n",
       "      <td>1.0</td>\n",
       "      <td>7.0</td>\n",
       "      <td>11.0</td>\n",
       "      <td>15.0</td>\n",
       "      <td>23.0</td>\n",
       "    </tr>\n",
       "    <tr>\n",
       "      <th>infant_id_1</th>\n",
       "      <td>0.0</td>\n",
       "      <td>6.0</td>\n",
       "      <td>10.0</td>\n",
       "      <td>14.0</td>\n",
       "      <td>22.0</td>\n",
       "    </tr>\n",
       "    <tr>\n",
       "      <th>dlivord_min</th>\n",
       "      <td>NaN</td>\n",
       "      <td>2.0</td>\n",
       "      <td>NaN</td>\n",
       "      <td>4.0</td>\n",
       "      <td>NaN</td>\n",
       "    </tr>\n",
       "    <tr>\n",
       "      <th>dtotord_min</th>\n",
       "      <td>NaN</td>\n",
       "      <td>3.0</td>\n",
       "      <td>NaN</td>\n",
       "      <td>4.0</td>\n",
       "      <td>NaN</td>\n",
       "    </tr>\n",
       "    <tr>\n",
       "      <th>bord_0</th>\n",
       "      <td>NaN</td>\n",
       "      <td>2.0</td>\n",
       "      <td>NaN</td>\n",
       "      <td>1.0</td>\n",
       "      <td>NaN</td>\n",
       "    </tr>\n",
       "    <tr>\n",
       "      <th>bord_1</th>\n",
       "      <td>NaN</td>\n",
       "      <td>1.0</td>\n",
       "      <td>NaN</td>\n",
       "      <td>2.0</td>\n",
       "      <td>NaN</td>\n",
       "    </tr>\n",
       "    <tr>\n",
       "      <th>brstate_reg</th>\n",
       "      <td>5.0</td>\n",
       "      <td>5.0</td>\n",
       "      <td>5.0</td>\n",
       "      <td>5.0</td>\n",
       "      <td>5.0</td>\n",
       "    </tr>\n",
       "    <tr>\n",
       "      <th>stoccfipb_reg</th>\n",
       "      <td>5.0</td>\n",
       "      <td>5.0</td>\n",
       "      <td>5.0</td>\n",
       "      <td>5.0</td>\n",
       "      <td>5.0</td>\n",
       "    </tr>\n",
       "    <tr>\n",
       "      <th>mplbir_reg</th>\n",
       "      <td>1.0</td>\n",
       "      <td>5.0</td>\n",
       "      <td>1.0</td>\n",
       "      <td>5.0</td>\n",
       "      <td>5.0</td>\n",
       "    </tr>\n",
       "  </tbody>\n",
       "</table>\n",
       "</div>"
      ],
      "text/plain": [
       "                  0     1     2     3     4\n",
       "Unnamed: 0.1    0.0   1.0   2.0   3.0   4.0\n",
       "Unnamed: 0      0.0   1.0   2.0   3.0   4.0\n",
       "pldel           1.0   1.0   1.0   1.0   1.0\n",
       "birattnd        1.0   1.0   1.0   1.0   1.0\n",
       "brstate         1.0   1.0   1.0   1.0   1.0\n",
       "stoccfipb       1.0   1.0   1.0   1.0   1.0\n",
       "mager8          3.0   3.0   5.0   4.0   5.0\n",
       "ormoth          0.0   0.0   0.0   0.0   0.0\n",
       "mrace           1.0   2.0   1.0   2.0   2.0\n",
       "meduc6          NaN   3.0   5.0   1.0   4.0\n",
       "dmar            1.0   0.0   1.0   1.0   0.0\n",
       "mplbir         31.0   1.0  59.0   1.0   1.0\n",
       "mpre5           1.0   1.0   1.0   2.0   1.0\n",
       "adequacy        1.0   1.0   1.0   2.0   1.0\n",
       "orfath          0.0   NaN   0.0   0.0   NaN\n",
       "frace           1.0   NaN   1.0   2.0   NaN\n",
       "birmon          1.0   1.0   1.0   1.0   1.0\n",
       "gestat10        9.0   6.0   4.0   6.0   6.0\n",
       "csex            1.0   1.0   0.0   0.0   0.0\n",
       "anemia          0.0   0.0   0.0   0.0   0.0\n",
       "cardiac         0.0   0.0   0.0   0.0   0.0\n",
       "lung            0.0   0.0   0.0   0.0   0.0\n",
       "diabetes        0.0   0.0   0.0   0.0   0.0\n",
       "herpes          0.0   0.0   0.0   0.0   0.0\n",
       "hydra           0.0   0.0   0.0   0.0   0.0\n",
       "hemo            0.0   0.0   0.0   0.0   0.0\n",
       "chyper          0.0   0.0   0.0   0.0   0.0\n",
       "phyper          0.0   1.0   0.0   0.0   0.0\n",
       "eclamp          0.0   0.0   0.0   0.0   0.0\n",
       "incervix        0.0   0.0   0.0   0.0   0.0\n",
       "pre4000         0.0   0.0   0.0   0.0   0.0\n",
       "preterm         0.0   0.0   0.0   0.0   0.0\n",
       "renal           0.0   0.0   0.0   0.0   0.0\n",
       "rh              0.0   0.0   0.0   0.0   0.0\n",
       "uterine         0.0   0.0   0.0   0.0   0.0\n",
       "othermr         0.0   0.0   0.0   0.0   0.0\n",
       "tobacco         0.0   0.0   0.0   0.0   0.0\n",
       "alcohol         0.0   0.0   0.0   0.0   0.0\n",
       "cigar6          0.0   0.0   0.0   0.0   0.0\n",
       "drink5          0.0   0.0   0.0   0.0   0.0\n",
       "crace           1.0   2.0   1.0   2.0   2.0\n",
       "data_year      89.0  89.0  89.0  89.0  89.0\n",
       "nprevistq       4.0   3.0   1.0   1.0   2.0\n",
       "dfageq          0.0   NaN   6.0   6.0   NaN\n",
       "feduc6          NaN   NaN   3.0   1.0   NaN\n",
       "infant_id_0     1.0   7.0  11.0  15.0  23.0\n",
       "infant_id_1     0.0   6.0  10.0  14.0  22.0\n",
       "dlivord_min     NaN   2.0   NaN   4.0   NaN\n",
       "dtotord_min     NaN   3.0   NaN   4.0   NaN\n",
       "bord_0          NaN   2.0   NaN   1.0   NaN\n",
       "bord_1          NaN   1.0   NaN   2.0   NaN\n",
       "brstate_reg     5.0   5.0   5.0   5.0   5.0\n",
       "stoccfipb_reg   5.0   5.0   5.0   5.0   5.0\n",
       "mplbir_reg      1.0   5.0   1.0   5.0   5.0"
      ]
     },
     "execution_count": 4,
     "metadata": {},
     "output_type": "execute_result"
    }
   ],
   "source": [
    "twins_data_df.head().T"
   ]
  },
  {
   "cell_type": "markdown",
   "metadata": {},
   "source": [
    "## Dados gerais"
   ]
  },
  {
   "cell_type": "markdown",
   "metadata": {},
   "source": [
    "Quantidade de pares de irmãos gêmeos:"
   ]
  },
  {
   "cell_type": "code",
   "execution_count": 5,
   "metadata": {},
   "outputs": [
    {
     "data": {
      "text/plain": [
       "71345"
      ]
     },
     "execution_count": 5,
     "metadata": {},
     "output_type": "execute_result"
    }
   ],
   "source": [
    "len(twins_data_df)"
   ]
  },
  {
   "cell_type": "markdown",
   "metadata": {},
   "source": [
    "## Quantidade de nulos"
   ]
  },
  {
   "cell_type": "code",
   "execution_count": 6,
   "metadata": {},
   "outputs": [
    {
     "data": {
      "text/plain": [
       "Unnamed: 0.1         0\n",
       "Unnamed: 0           0\n",
       "pldel               24\n",
       "birattnd           114\n",
       "brstate              0\n",
       "stoccfipb            0\n",
       "mager8               0\n",
       "ormoth            2026\n",
       "mrace                0\n",
       "meduc6            4339\n",
       "dmar                 0\n",
       "mplbir             108\n",
       "mpre5             1627\n",
       "adequacy          3169\n",
       "orfath           11822\n",
       "frace            10260\n",
       "birmon               0\n",
       "gestat10             0\n",
       "csex                 0\n",
       "anemia            4240\n",
       "cardiac           4240\n",
       "lung              4240\n",
       "diabetes          4240\n",
       "herpes           10566\n",
       "hydra             7086\n",
       "hemo              7086\n",
       "chyper            4240\n",
       "phyper            4240\n",
       "eclamp            4240\n",
       "incervix          7086\n",
       "pre4000           7086\n",
       "preterm           7086\n",
       "renal             4240\n",
       "rh                5015\n",
       "uterine           7720\n",
       "othermr           4240\n",
       "tobacco          19254\n",
       "alcohol          17923\n",
       "cigar6           19716\n",
       "drink5           18319\n",
       "crace                0\n",
       "data_year            0\n",
       "nprevistq         2350\n",
       "dfageq           11117\n",
       "feduc6           14679\n",
       "infant_id_0          0\n",
       "infant_id_1          0\n",
       "dlivord_min       7224\n",
       "dtotord_min       7318\n",
       "bord_0            7224\n",
       "bord_1            7224\n",
       "brstate_reg          0\n",
       "stoccfipb_reg        0\n",
       "mplbir_reg         108\n",
       "dtype: int64"
      ]
     },
     "execution_count": 6,
     "metadata": {},
     "output_type": "execute_result"
    }
   ],
   "source": [
    "twins_data_df.isna().sum()"
   ]
  },
  {
   "cell_type": "markdown",
   "metadata": {},
   "source": [
    "O máximo de nulos é na coluna cigar6 com 19716 nulos, cerca de 27% das entradas"
   ]
  },
  {
   "cell_type": "markdown",
   "metadata": {},
   "source": [
    "Apesar de os nomes das colunas serem estranhos, elas tem uma explicação no arquivo ../data/original/covar_desc.txt:"
   ]
  },
  {
   "cell_type": "code",
   "execution_count": 7,
   "metadata": {},
   "outputs": [],
   "source": [
    "col_desc = {'adequacy': 'adequacy of care',\n",
    " 'alcohol': 'risk factor, alcohol use',\n",
    " 'anemia': 'risk factor, Anemia',\n",
    " 'birattnd': 'medical person attending birth',\n",
    " 'birmon': 'birth month Jan-Dec',\n",
    " 'bord_0': 'birth order of lighter twin',\n",
    " 'bord_1': 'birth order of heavier twin',\n",
    " 'brstate': 'state of residence NCHS',\n",
    " 'brstate_reg': 'US census region of brstate',\n",
    " 'cardiac': 'risk factor, Cardiac',\n",
    " 'chyper': 'risk factor, Hypertension, chronic',\n",
    " 'cigar6': 'num of cigarettes /day, quantiled',\n",
    " 'crace': 'race of child',\n",
    " 'csex': 'sex of child',\n",
    " 'data_year': 'year: 1989, 1990 or 1991',\n",
    " 'dfageq': 'octile age of father',\n",
    " 'diabetes': 'risk factor, Diabetes',\n",
    " 'dlivord_min': 'number of live births before twins',\n",
    " 'dmar': 'married',\n",
    " 'drink5': 'num of drinks /week, quantiled',\n",
    " 'dtotord_min': 'total number of births before twins',\n",
    " 'eclamp': 'risk factor, Eclampsia',\n",
    " 'feduc6': 'education category',\n",
    " 'frace': 'dad race',\n",
    " 'gestat10': 'gestation 10 categories',\n",
    " 'hemo': 'risk factor Hemoglobinopathy',\n",
    " 'herpes': 'risk factor, Herpes',\n",
    " 'hydra': 'risk factor Hvdramnios/Oliqohvdramnios',\n",
    " 'incervix': 'risk factor, Incompetent cervix',\n",
    " 'infant_id_0': 'infant id of lighter twin in original df',\n",
    " 'infant_id_1': 'infant id of heavier twin in original df',\n",
    " 'lung': 'risk factor, Lung',\n",
    " 'mager8': 'mom age',\n",
    " 'meduc6': 'mom education',\n",
    " 'mplbir': 'mom place of birth',\n",
    " 'mplbir_reg': 'US census region of mplbir',\n",
    " 'mpre5': 'trimester prenatal care begun, 4 is none',\n",
    " 'mrace': 'mom race',\n",
    " 'nprevistq': 'quintile number of prenatal visits',\n",
    " 'orfath': 'dad hispanic',\n",
    " 'ormoth': 'mom hispanic',\n",
    " 'othermr': 'risk factor, Other Medical Risk Factors',\n",
    " 'phyper': 'risk factor, Hypertension, preqnancy-associated',\n",
    " 'pldel': 'place of delivery',\n",
    " 'pre4000': 'risk factor, Previous infant 4000+ grams',\n",
    " 'preterm': 'risk factor, Previos pre-term or small',\n",
    " 'renal': 'risk factor, Renal disease',\n",
    " 'rh': 'risk factor, RH sensitization',\n",
    " 'stoccfipb': 'state of occurence FIPB',\n",
    " 'stoccfipb_reg': 'US census region of stoccfipb',\n",
    " 'tobacco': 'risk factor, tobacco use',\n",
    " 'uterine': 'risk factor, Uterine bleeding'}"
   ]
  },
  {
   "cell_type": "markdown",
   "metadata": {},
   "source": [
    "# Separando as linhas"
   ]
  },
  {
   "cell_type": "markdown",
   "metadata": {},
   "source": [
    "## Sobre as features dos bebês"
   ]
  },
  {
   "cell_type": "markdown",
   "metadata": {},
   "source": [
    "Essa parte se refere ao arquivo que contém features sobre os bebês. Esse arquivo é o que já foi aberto acima."
   ]
  },
  {
   "cell_type": "markdown",
   "metadata": {},
   "source": [
    "### Sobre as colunas"
   ]
  },
  {
   "cell_type": "markdown",
   "metadata": {},
   "source": [
    "O DataFrame original possui colunas comuns a ambos os bebês e outras específicas. Essas últimas têm o sufixo '_0' ou '_1'. O sufixo \"_0\" significa que a coluna é se refere ao bebê mais leve entre os dois e \"_1\" o contrário. Isso pode vir a ser uma coluna também."
   ]
  },
  {
   "cell_type": "code",
   "execution_count": 8,
   "metadata": {},
   "outputs": [
    {
     "data": {
      "text/plain": [
       "Index(['Unnamed: 0.1', 'Unnamed: 0', 'pldel', 'birattnd', 'brstate',\n",
       "       'stoccfipb', 'mager8', 'ormoth', 'mrace', 'meduc6', 'dmar', 'mplbir',\n",
       "       'mpre5', 'adequacy', 'orfath', 'frace', 'birmon', 'gestat10', 'csex',\n",
       "       'anemia', 'cardiac', 'lung', 'diabetes', 'herpes', 'hydra', 'hemo',\n",
       "       'chyper', 'phyper', 'eclamp', 'incervix', 'pre4000', 'preterm', 'renal',\n",
       "       'rh', 'uterine', 'othermr', 'tobacco', 'alcohol', 'cigar6', 'drink5',\n",
       "       'crace', 'data_year', 'nprevistq', 'dfageq', 'feduc6', 'infant_id_0',\n",
       "       'infant_id_1', 'dlivord_min', 'dtotord_min', 'bord_0', 'bord_1',\n",
       "       'brstate_reg', 'stoccfipb_reg', 'mplbir_reg'],\n",
       "      dtype='object')"
      ]
     },
     "execution_count": 8,
     "metadata": {},
     "output_type": "execute_result"
    }
   ],
   "source": [
    "twins_data_df.columns"
   ]
  },
  {
   "cell_type": "markdown",
   "metadata": {},
   "source": [
    "Dessa forma, as colunas em comum são:"
   ]
  },
  {
   "cell_type": "code",
   "execution_count": 9,
   "metadata": {},
   "outputs": [],
   "source": [
    "shared_cols = {col for col in twins_data_df.columns.values if col[-2:] not in (\"_0\", \"_1\")}"
   ]
  },
  {
   "cell_type": "code",
   "execution_count": 10,
   "metadata": {},
   "outputs": [
    {
     "data": {
      "text/plain": [
       "{'Unnamed: 0',\n",
       " 'Unnamed: 0.1',\n",
       " 'adequacy',\n",
       " 'alcohol',\n",
       " 'anemia',\n",
       " 'birattnd',\n",
       " 'birmon',\n",
       " 'brstate',\n",
       " 'brstate_reg',\n",
       " 'cardiac',\n",
       " 'chyper',\n",
       " 'cigar6',\n",
       " 'crace',\n",
       " 'csex',\n",
       " 'data_year',\n",
       " 'dfageq',\n",
       " 'diabetes',\n",
       " 'dlivord_min',\n",
       " 'dmar',\n",
       " 'drink5',\n",
       " 'dtotord_min',\n",
       " 'eclamp',\n",
       " 'feduc6',\n",
       " 'frace',\n",
       " 'gestat10',\n",
       " 'hemo',\n",
       " 'herpes',\n",
       " 'hydra',\n",
       " 'incervix',\n",
       " 'lung',\n",
       " 'mager8',\n",
       " 'meduc6',\n",
       " 'mplbir',\n",
       " 'mplbir_reg',\n",
       " 'mpre5',\n",
       " 'mrace',\n",
       " 'nprevistq',\n",
       " 'orfath',\n",
       " 'ormoth',\n",
       " 'othermr',\n",
       " 'phyper',\n",
       " 'pldel',\n",
       " 'pre4000',\n",
       " 'preterm',\n",
       " 'renal',\n",
       " 'rh',\n",
       " 'stoccfipb',\n",
       " 'stoccfipb_reg',\n",
       " 'tobacco',\n",
       " 'uterine'}"
      ]
     },
     "execution_count": 10,
     "metadata": {},
     "output_type": "execute_result"
    }
   ],
   "source": [
    "shared_cols"
   ]
  },
  {
   "cell_type": "markdown",
   "metadata": {},
   "source": [
    "Já as colunas específicas são:"
   ]
  },
  {
   "cell_type": "code",
   "execution_count": 11,
   "metadata": {},
   "outputs": [],
   "source": [
    "spec_cols = {col for col in twins_data_df.columns.values if col[-2:] in (\"_0\", \"_1\")}"
   ]
  },
  {
   "cell_type": "code",
   "execution_count": 12,
   "metadata": {},
   "outputs": [
    {
     "data": {
      "text/plain": [
       "{'bord_0', 'bord_1', 'infant_id_0', 'infant_id_1'}"
      ]
     },
     "execution_count": 12,
     "metadata": {},
     "output_type": "execute_result"
    }
   ],
   "source": [
    "spec_cols"
   ]
  },
  {
   "cell_type": "markdown",
   "metadata": {},
   "source": [
    "De acordo com o significado das colunas, bord indica se a criança nasceu antes ou depois do seu irmão gêmeo."
   ]
  },
  {
   "cell_type": "code",
   "execution_count": 13,
   "metadata": {},
   "outputs": [
    {
     "data": {
      "text/plain": [
       "array([nan,  2.,  1.])"
      ]
     },
     "execution_count": 13,
     "metadata": {},
     "output_type": "execute_result"
    }
   ],
   "source": [
    "twins_data_df['bord_0'].unique()"
   ]
  },
  {
   "cell_type": "markdown",
   "metadata": {},
   "source": [
    "Ou seja, esses valores são 1, 2 ou NaN"
   ]
  },
  {
   "cell_type": "markdown",
   "metadata": {},
   "source": [
    "## Sobre os pesos dos bebês"
   ]
  },
  {
   "cell_type": "markdown",
   "metadata": {},
   "source": [
    "Essa parte se refere ao arquivo que contém informação sobre os pesos dos bebês em gramas."
   ]
  },
  {
   "cell_type": "code",
   "execution_count": 14,
   "metadata": {},
   "outputs": [],
   "source": [
    "twins_weights_path = Path(\"../data/original/twin_pairs_T_3years_samesex.csv\")"
   ]
  },
  {
   "cell_type": "code",
   "execution_count": 15,
   "metadata": {},
   "outputs": [],
   "source": [
    "twins_weights_df = pd.read_csv(twins_weights_path)"
   ]
  },
  {
   "cell_type": "code",
   "execution_count": 16,
   "metadata": {},
   "outputs": [
    {
     "data": {
      "text/html": [
       "<div>\n",
       "<style scoped>\n",
       "    .dataframe tbody tr th:only-of-type {\n",
       "        vertical-align: middle;\n",
       "    }\n",
       "\n",
       "    .dataframe tbody tr th {\n",
       "        vertical-align: top;\n",
       "    }\n",
       "\n",
       "    .dataframe thead th {\n",
       "        text-align: right;\n",
       "    }\n",
       "</style>\n",
       "<table border=\"1\" class=\"dataframe\">\n",
       "  <thead>\n",
       "    <tr style=\"text-align: right;\">\n",
       "      <th></th>\n",
       "      <th>Unnamed: 0</th>\n",
       "      <th>dbirwt_0</th>\n",
       "      <th>dbirwt_1</th>\n",
       "    </tr>\n",
       "  </thead>\n",
       "  <tbody>\n",
       "    <tr>\n",
       "      <th>0</th>\n",
       "      <td>0</td>\n",
       "      <td>2268.0</td>\n",
       "      <td>2296.0</td>\n",
       "    </tr>\n",
       "    <tr>\n",
       "      <th>1</th>\n",
       "      <td>1</td>\n",
       "      <td>2610.0</td>\n",
       "      <td>2650.0</td>\n",
       "    </tr>\n",
       "    <tr>\n",
       "      <th>2</th>\n",
       "      <td>2</td>\n",
       "      <td>1985.0</td>\n",
       "      <td>2098.0</td>\n",
       "    </tr>\n",
       "    <tr>\n",
       "      <th>3</th>\n",
       "      <td>3</td>\n",
       "      <td>2410.0</td>\n",
       "      <td>2420.0</td>\n",
       "    </tr>\n",
       "    <tr>\n",
       "      <th>4</th>\n",
       "      <td>4</td>\n",
       "      <td>2013.0</td>\n",
       "      <td>2637.0</td>\n",
       "    </tr>\n",
       "  </tbody>\n",
       "</table>\n",
       "</div>"
      ],
      "text/plain": [
       "   Unnamed: 0  dbirwt_0  dbirwt_1\n",
       "0           0    2268.0    2296.0\n",
       "1           1    2610.0    2650.0\n",
       "2           2    1985.0    2098.0\n",
       "3           3    2410.0    2420.0\n",
       "4           4    2013.0    2637.0"
      ]
     },
     "execution_count": 16,
     "metadata": {},
     "output_type": "execute_result"
    }
   ],
   "source": [
    "twins_weights_df.head()"
   ]
  },
  {
   "cell_type": "code",
   "execution_count": 17,
   "metadata": {},
   "outputs": [],
   "source": [
    "twins_weights_df.drop(\"Unnamed: 0\", inplace=True, axis=1)"
   ]
  },
  {
   "cell_type": "code",
   "execution_count": 18,
   "metadata": {},
   "outputs": [
    {
     "data": {
      "text/plain": [
       "71345"
      ]
     },
     "execution_count": 18,
     "metadata": {},
     "output_type": "execute_result"
    }
   ],
   "source": [
    "len(twins_weights_df)"
   ]
  },
  {
   "cell_type": "code",
   "execution_count": 19,
   "metadata": {},
   "outputs": [
    {
     "data": {
      "text/plain": [
       "dbirwt_0    0\n",
       "dbirwt_1    0\n",
       "dtype: int64"
      ]
     },
     "execution_count": 19,
     "metadata": {},
     "output_type": "execute_result"
    }
   ],
   "source": [
    "twins_weights_df.isna().sum()"
   ]
  },
  {
   "cell_type": "markdown",
   "metadata": {},
   "source": [
    "Esse arquivo possui uma entrada para cada par de bebês e não tem nenhum dado faltando."
   ]
  },
  {
   "cell_type": "markdown",
   "metadata": {},
   "source": [
    "## Sobre a mortalidade dos bebês"
   ]
  },
  {
   "cell_type": "markdown",
   "metadata": {},
   "source": [
    "Essa parte é sobre a identificação se o bebê morreu ou não."
   ]
  },
  {
   "cell_type": "code",
   "execution_count": 20,
   "metadata": {},
   "outputs": [],
   "source": [
    "twins_died_path = Path(\"../data/original/twin_pairs_Y_3years_samesex.csv\")"
   ]
  },
  {
   "cell_type": "code",
   "execution_count": 21,
   "metadata": {},
   "outputs": [],
   "source": [
    "twins_died_df = pd.read_csv(twins_died_path)"
   ]
  },
  {
   "cell_type": "code",
   "execution_count": 22,
   "metadata": {},
   "outputs": [
    {
     "data": {
      "text/html": [
       "<div>\n",
       "<style scoped>\n",
       "    .dataframe tbody tr th:only-of-type {\n",
       "        vertical-align: middle;\n",
       "    }\n",
       "\n",
       "    .dataframe tbody tr th {\n",
       "        vertical-align: top;\n",
       "    }\n",
       "\n",
       "    .dataframe thead th {\n",
       "        text-align: right;\n",
       "    }\n",
       "</style>\n",
       "<table border=\"1\" class=\"dataframe\">\n",
       "  <thead>\n",
       "    <tr style=\"text-align: right;\">\n",
       "      <th></th>\n",
       "      <th>Unnamed: 0</th>\n",
       "      <th>mort_0</th>\n",
       "      <th>mort_1</th>\n",
       "    </tr>\n",
       "  </thead>\n",
       "  <tbody>\n",
       "    <tr>\n",
       "      <th>0</th>\n",
       "      <td>0</td>\n",
       "      <td>0.0</td>\n",
       "      <td>0.0</td>\n",
       "    </tr>\n",
       "    <tr>\n",
       "      <th>1</th>\n",
       "      <td>1</td>\n",
       "      <td>0.0</td>\n",
       "      <td>0.0</td>\n",
       "    </tr>\n",
       "    <tr>\n",
       "      <th>2</th>\n",
       "      <td>2</td>\n",
       "      <td>0.0</td>\n",
       "      <td>0.0</td>\n",
       "    </tr>\n",
       "    <tr>\n",
       "      <th>3</th>\n",
       "      <td>3</td>\n",
       "      <td>0.0</td>\n",
       "      <td>0.0</td>\n",
       "    </tr>\n",
       "    <tr>\n",
       "      <th>4</th>\n",
       "      <td>4</td>\n",
       "      <td>0.0</td>\n",
       "      <td>0.0</td>\n",
       "    </tr>\n",
       "  </tbody>\n",
       "</table>\n",
       "</div>"
      ],
      "text/plain": [
       "   Unnamed: 0  mort_0  mort_1\n",
       "0           0     0.0     0.0\n",
       "1           1     0.0     0.0\n",
       "2           2     0.0     0.0\n",
       "3           3     0.0     0.0\n",
       "4           4     0.0     0.0"
      ]
     },
     "execution_count": 22,
     "metadata": {},
     "output_type": "execute_result"
    }
   ],
   "source": [
    "twins_died_df.head()"
   ]
  },
  {
   "cell_type": "code",
   "execution_count": 23,
   "metadata": {},
   "outputs": [],
   "source": [
    "twins_died_df.drop(\"Unnamed: 0\", inplace=True, axis=1)"
   ]
  },
  {
   "cell_type": "code",
   "execution_count": 24,
   "metadata": {},
   "outputs": [
    {
     "data": {
      "text/plain": [
       "71345"
      ]
     },
     "execution_count": 24,
     "metadata": {},
     "output_type": "execute_result"
    }
   ],
   "source": [
    "len(twins_died_df)"
   ]
  },
  {
   "cell_type": "code",
   "execution_count": 25,
   "metadata": {},
   "outputs": [
    {
     "data": {
      "text/plain": [
       "mort_0    0\n",
       "mort_1    0\n",
       "dtype: int64"
      ]
     },
     "execution_count": 25,
     "metadata": {},
     "output_type": "execute_result"
    }
   ],
   "source": [
    "twins_died_df.isna().sum()"
   ]
  },
  {
   "cell_type": "markdown",
   "metadata": {},
   "source": [
    "Esse arquivo também possui uma entrada para cada par e não falta nenhum dado."
   ]
  },
  {
   "cell_type": "markdown",
   "metadata": {},
   "source": [
    "### Populando o novo DF"
   ]
  },
  {
   "cell_type": "code",
   "execution_count": 26,
   "metadata": {},
   "outputs": [],
   "source": [
    "twins_sep_df = pd.DataFrame()"
   ]
  },
  {
   "cell_type": "code",
   "execution_count": 29,
   "metadata": {},
   "outputs": [],
   "source": [
    "def remove_unwanted_cols_pre_treatment(df):\n",
    "    return df.drop(['Unnamed: 0', 'Unnamed: 0.1'], axis=1)\n",
    "\n",
    "def remove_unwanted_cols_pos_treatment(df):\n",
    "    unwanted_cols = ['bord_0', 'bord_1', 'infant_id_0', 'infant_id_1', \n",
    "                    'mort_0', 'mort_1', 'dbirwt_0', 'dbirwt_1']\n",
    "    return df.drop(unwanted_cols, axis=1)\n",
    "\n",
    "def duplicate_every_row(df):\n",
    "    return pd.DataFrame(np.repeat(df.values, 2, axis=0), columns=df.columns)\n",
    "\n",
    "def create_new_columns(df):\n",
    "    df['lighter'] = 0\n",
    "    df['first'] = 0\n",
    "    df['id'] = 0\n",
    "    df['weight'] = 0\n",
    "    df['died'] = 0\n",
    "    df['has_missing'] = False\n",
    "    \n",
    "    return df\n",
    "\n",
    "def define_lighter_col(row):\n",
    "    row['lighter'] = 1 if int(row.name) % 2 == 0 else 0\n",
    "    return row\n",
    "\n",
    "def define_first_col(row):\n",
    "    born_order = 0\n",
    "    if pd.isnull(row['bord_0']):\n",
    "        row['first'] = np.NaN\n",
    "        return row\n",
    "    \n",
    "    if row['lighter'] == 1:\n",
    "        born_order = row['bord_0']\n",
    "    else:\n",
    "        born_order = row['bord_1']\n",
    "    \n",
    "    #born_order tem os valores {1, 2}\n",
    "    row['first'] = 1 if born_order == 1 else 0\n",
    "    \n",
    "    return row\n",
    "\n",
    "def define_baby_id(row):\n",
    "    if row['lighter'] == 1:\n",
    "        row['id'] = row['infant_id_0']\n",
    "    else:\n",
    "        row['id'] = row['infant_id_1']\n",
    "    \n",
    "    return row\n",
    "\n",
    "def define_baby_died(row):\n",
    "    if row['lighter'] == 1:\n",
    "        row['died'] = row['mort_0']\n",
    "    else:\n",
    "        row['died'] = row['mort_1']\n",
    "    \n",
    "    return row\n",
    "\n",
    "def define_baby_weight(row):\n",
    "    if row['lighter'] == 1:\n",
    "        row['weight'] = row['dbirwt_0']\n",
    "    else:\n",
    "        row['weight'] = row['dbirwt_1']\n",
    "    \n",
    "    return row\n",
    "\n",
    "def define_has_missing(row):\n",
    "    if row.isnull().values.any():\n",
    "        row['has_missing'] = True\n",
    "    \n",
    "    return row\n",
    "\n",
    "def complete_with_most_common(df):\n",
    "    missing_count = df.isna().sum()\n",
    "    missing_cols_names = missing_count.loc[missing_count > 0].index.to_list()\n",
    "    most_common_per_col = dict()\n",
    "    for col in missing_cols_names:\n",
    "        most_common_per_col[col] = df[col].value_counts().idxmax()\n",
    "    \n",
    "    df.fillna(most_common_per_col, inplace=True)\n",
    "    return df\n",
    "\n",
    "twins_sep_df = pd.concat([twins_data_df, twins_died_df, twins_weights_df], axis=1)\n",
    "twins_sep_df = remove_unwanted_cols_pre_treatment(twins_sep_df)\n",
    "twins_sep_df = duplicate_every_row(twins_sep_df)\n",
    "twins_sep_df = create_new_columns(twins_sep_df)\n",
    "twins_sep_df = twins_sep_df.apply(define_lighter_col, axis=1)\n",
    "twins_sep_df = twins_sep_df.apply(define_first_col, axis=1)\n",
    "twins_sep_df = twins_sep_df.apply(define_baby_id, axis=1)\n",
    "twins_sep_df = twins_sep_df.apply(define_baby_died, axis=1)\n",
    "twins_sep_df = twins_sep_df.apply(define_baby_weight, axis=1)\n",
    "twins_sep_df = twins_sep_df.apply(define_has_missing, axis=1)\n",
    "twins_sep_df = complete_with_most_common(twins_sep_df)\n",
    "twins_sep_df = remove_unwanted_cols_pos_treatment(twins_sep_df)"
   ]
  },
  {
   "cell_type": "code",
   "execution_count": 30,
   "metadata": {},
   "outputs": [
    {
     "data": {
      "text/plain": [
       "pldel            0\n",
       "birattnd         0\n",
       "brstate          0\n",
       "stoccfipb        0\n",
       "mager8           0\n",
       "ormoth           0\n",
       "mrace            0\n",
       "meduc6           0\n",
       "dmar             0\n",
       "mplbir           0\n",
       "mpre5            0\n",
       "adequacy         0\n",
       "orfath           0\n",
       "frace            0\n",
       "birmon           0\n",
       "gestat10         0\n",
       "csex             0\n",
       "anemia           0\n",
       "cardiac          0\n",
       "lung             0\n",
       "diabetes         0\n",
       "herpes           0\n",
       "hydra            0\n",
       "hemo             0\n",
       "chyper           0\n",
       "phyper           0\n",
       "eclamp           0\n",
       "incervix         0\n",
       "pre4000          0\n",
       "preterm          0\n",
       "renal            0\n",
       "rh               0\n",
       "uterine          0\n",
       "othermr          0\n",
       "tobacco          0\n",
       "alcohol          0\n",
       "cigar6           0\n",
       "drink5           0\n",
       "crace            0\n",
       "data_year        0\n",
       "nprevistq        0\n",
       "dfageq           0\n",
       "feduc6           0\n",
       "dlivord_min      0\n",
       "dtotord_min      0\n",
       "brstate_reg      0\n",
       "stoccfipb_reg    0\n",
       "mplbir_reg       0\n",
       "lighter          0\n",
       "first            0\n",
       "id               0\n",
       "weight           0\n",
       "died             0\n",
       "has_missing      0\n",
       "dtype: int64"
      ]
     },
     "execution_count": 30,
     "metadata": {},
     "output_type": "execute_result"
    }
   ],
   "source": [
    "twins_sep_df.isna().sum()"
   ]
  },
  {
   "cell_type": "code",
   "execution_count": 31,
   "metadata": {},
   "outputs": [
    {
     "data": {
      "text/html": [
       "<div>\n",
       "<style scoped>\n",
       "    .dataframe tbody tr th:only-of-type {\n",
       "        vertical-align: middle;\n",
       "    }\n",
       "\n",
       "    .dataframe tbody tr th {\n",
       "        vertical-align: top;\n",
       "    }\n",
       "\n",
       "    .dataframe thead th {\n",
       "        text-align: right;\n",
       "    }\n",
       "</style>\n",
       "<table border=\"1\" class=\"dataframe\">\n",
       "  <thead>\n",
       "    <tr style=\"text-align: right;\">\n",
       "      <th></th>\n",
       "      <th>pldel</th>\n",
       "      <th>birattnd</th>\n",
       "      <th>brstate</th>\n",
       "      <th>stoccfipb</th>\n",
       "      <th>mager8</th>\n",
       "      <th>ormoth</th>\n",
       "      <th>mrace</th>\n",
       "      <th>meduc6</th>\n",
       "      <th>dmar</th>\n",
       "      <th>mplbir</th>\n",
       "      <th>...</th>\n",
       "      <th>dtotord_min</th>\n",
       "      <th>brstate_reg</th>\n",
       "      <th>stoccfipb_reg</th>\n",
       "      <th>mplbir_reg</th>\n",
       "      <th>lighter</th>\n",
       "      <th>first</th>\n",
       "      <th>id</th>\n",
       "      <th>weight</th>\n",
       "      <th>died</th>\n",
       "      <th>has_missing</th>\n",
       "    </tr>\n",
       "  </thead>\n",
       "  <tbody>\n",
       "    <tr>\n",
       "      <th>0</th>\n",
       "      <td>1.0</td>\n",
       "      <td>1.0</td>\n",
       "      <td>1.0</td>\n",
       "      <td>1.0</td>\n",
       "      <td>3.0</td>\n",
       "      <td>0.0</td>\n",
       "      <td>1.0</td>\n",
       "      <td>3.0</td>\n",
       "      <td>1.0</td>\n",
       "      <td>31.0</td>\n",
       "      <td>...</td>\n",
       "      <td>1.0</td>\n",
       "      <td>5.0</td>\n",
       "      <td>5.0</td>\n",
       "      <td>1.0</td>\n",
       "      <td>1</td>\n",
       "      <td>0.0</td>\n",
       "      <td>1.0</td>\n",
       "      <td>2268.0</td>\n",
       "      <td>0.0</td>\n",
       "      <td>True</td>\n",
       "    </tr>\n",
       "    <tr>\n",
       "      <th>1</th>\n",
       "      <td>1.0</td>\n",
       "      <td>1.0</td>\n",
       "      <td>1.0</td>\n",
       "      <td>1.0</td>\n",
       "      <td>3.0</td>\n",
       "      <td>0.0</td>\n",
       "      <td>1.0</td>\n",
       "      <td>3.0</td>\n",
       "      <td>1.0</td>\n",
       "      <td>31.0</td>\n",
       "      <td>...</td>\n",
       "      <td>1.0</td>\n",
       "      <td>5.0</td>\n",
       "      <td>5.0</td>\n",
       "      <td>1.0</td>\n",
       "      <td>0</td>\n",
       "      <td>0.0</td>\n",
       "      <td>0.0</td>\n",
       "      <td>2296.0</td>\n",
       "      <td>0.0</td>\n",
       "      <td>True</td>\n",
       "    </tr>\n",
       "    <tr>\n",
       "      <th>2</th>\n",
       "      <td>1.0</td>\n",
       "      <td>1.0</td>\n",
       "      <td>1.0</td>\n",
       "      <td>1.0</td>\n",
       "      <td>3.0</td>\n",
       "      <td>0.0</td>\n",
       "      <td>2.0</td>\n",
       "      <td>3.0</td>\n",
       "      <td>0.0</td>\n",
       "      <td>1.0</td>\n",
       "      <td>...</td>\n",
       "      <td>3.0</td>\n",
       "      <td>5.0</td>\n",
       "      <td>5.0</td>\n",
       "      <td>5.0</td>\n",
       "      <td>1</td>\n",
       "      <td>0.0</td>\n",
       "      <td>7.0</td>\n",
       "      <td>2610.0</td>\n",
       "      <td>0.0</td>\n",
       "      <td>True</td>\n",
       "    </tr>\n",
       "    <tr>\n",
       "      <th>3</th>\n",
       "      <td>1.0</td>\n",
       "      <td>1.0</td>\n",
       "      <td>1.0</td>\n",
       "      <td>1.0</td>\n",
       "      <td>3.0</td>\n",
       "      <td>0.0</td>\n",
       "      <td>2.0</td>\n",
       "      <td>3.0</td>\n",
       "      <td>0.0</td>\n",
       "      <td>1.0</td>\n",
       "      <td>...</td>\n",
       "      <td>3.0</td>\n",
       "      <td>5.0</td>\n",
       "      <td>5.0</td>\n",
       "      <td>5.0</td>\n",
       "      <td>0</td>\n",
       "      <td>1.0</td>\n",
       "      <td>6.0</td>\n",
       "      <td>2650.0</td>\n",
       "      <td>0.0</td>\n",
       "      <td>True</td>\n",
       "    </tr>\n",
       "    <tr>\n",
       "      <th>4</th>\n",
       "      <td>1.0</td>\n",
       "      <td>1.0</td>\n",
       "      <td>1.0</td>\n",
       "      <td>1.0</td>\n",
       "      <td>5.0</td>\n",
       "      <td>0.0</td>\n",
       "      <td>1.0</td>\n",
       "      <td>5.0</td>\n",
       "      <td>1.0</td>\n",
       "      <td>59.0</td>\n",
       "      <td>...</td>\n",
       "      <td>1.0</td>\n",
       "      <td>5.0</td>\n",
       "      <td>5.0</td>\n",
       "      <td>1.0</td>\n",
       "      <td>1</td>\n",
       "      <td>0.0</td>\n",
       "      <td>11.0</td>\n",
       "      <td>1985.0</td>\n",
       "      <td>0.0</td>\n",
       "      <td>True</td>\n",
       "    </tr>\n",
       "  </tbody>\n",
       "</table>\n",
       "<p>5 rows × 54 columns</p>\n",
       "</div>"
      ],
      "text/plain": [
       "   pldel  birattnd  brstate  stoccfipb  mager8  ormoth  mrace  meduc6  dmar  \\\n",
       "0    1.0       1.0      1.0        1.0     3.0     0.0    1.0     3.0   1.0   \n",
       "1    1.0       1.0      1.0        1.0     3.0     0.0    1.0     3.0   1.0   \n",
       "2    1.0       1.0      1.0        1.0     3.0     0.0    2.0     3.0   0.0   \n",
       "3    1.0       1.0      1.0        1.0     3.0     0.0    2.0     3.0   0.0   \n",
       "4    1.0       1.0      1.0        1.0     5.0     0.0    1.0     5.0   1.0   \n",
       "\n",
       "   mplbir  ...  dtotord_min  brstate_reg  stoccfipb_reg  mplbir_reg  lighter  \\\n",
       "0    31.0  ...          1.0          5.0            5.0         1.0        1   \n",
       "1    31.0  ...          1.0          5.0            5.0         1.0        0   \n",
       "2     1.0  ...          3.0          5.0            5.0         5.0        1   \n",
       "3     1.0  ...          3.0          5.0            5.0         5.0        0   \n",
       "4    59.0  ...          1.0          5.0            5.0         1.0        1   \n",
       "\n",
       "   first    id  weight  died  has_missing  \n",
       "0    0.0   1.0  2268.0   0.0         True  \n",
       "1    0.0   0.0  2296.0   0.0         True  \n",
       "2    0.0   7.0  2610.0   0.0         True  \n",
       "3    1.0   6.0  2650.0   0.0         True  \n",
       "4    0.0  11.0  1985.0   0.0         True  \n",
       "\n",
       "[5 rows x 54 columns]"
      ]
     },
     "execution_count": 31,
     "metadata": {},
     "output_type": "execute_result"
    }
   ],
   "source": [
    "twins_sep_df.head()"
   ]
  },
  {
   "cell_type": "code",
   "execution_count": 32,
   "metadata": {},
   "outputs": [
    {
     "data": {
      "text/plain": [
       "True     78450\n",
       "False    64240\n",
       "Name: has_missing, dtype: int64"
      ]
     },
     "execution_count": 32,
     "metadata": {},
     "output_type": "execute_result"
    }
   ],
   "source": [
    "twins_sep_df['has_missing'].value_counts()"
   ]
  },
  {
   "cell_type": "code",
   "execution_count": 33,
   "metadata": {},
   "outputs": [
    {
     "data": {
      "text/plain": [
       "142690"
      ]
     },
     "execution_count": 33,
     "metadata": {},
     "output_type": "execute_result"
    }
   ],
   "source": [
    "len(twins_sep_df)"
   ]
  },
  {
   "cell_type": "markdown",
   "metadata": {},
   "source": [
    "A quantidade de linhas no df final dobrou, já que cada linha agora é relativa a apenas um dos bebês. Além disso, as colunas específicas de cada bebê por linha no df original foram substituídas pelas colunas 'lighter' (indicando se é o bebê mais leve entre os irmãos), 'first' (indicando se foi o primeiro bebê a nascer) e 'id'.\n",
    "\n",
    "Também foi possível juntar as informações que estavam contidas nos outros arquivos gerando, então, as colunas 'weight' (indicando o peso que o bebê possuía quando nasceu em gramas) e 'died' (Se o bebê veio a óbito)."
   ]
  },
  {
   "cell_type": "markdown",
   "metadata": {},
   "source": [
    "# Salvando os dados tratados"
   ]
  },
  {
   "cell_type": "code",
   "execution_count": 34,
   "metadata": {},
   "outputs": [],
   "source": [
    "twins_sep_path = Path(\"../data/treated/twins_data.csv\")"
   ]
  },
  {
   "cell_type": "code",
   "execution_count": 35,
   "metadata": {},
   "outputs": [],
   "source": [
    "twins_sep_df.to_csv(twins_sep_path, index=False)"
   ]
  },
  {
   "cell_type": "code",
   "execution_count": null,
   "metadata": {},
   "outputs": [],
   "source": []
  }
 ],
 "metadata": {
  "kernelspec": {
   "display_name": "twins",
   "language": "python",
   "name": "twins"
  },
  "language_info": {
   "codemirror_mode": {
    "name": "ipython",
    "version": 3
   },
   "file_extension": ".py",
   "mimetype": "text/x-python",
   "name": "python",
   "nbconvert_exporter": "python",
   "pygments_lexer": "ipython3",
   "version": "3.8.3"
  }
 },
 "nbformat": 4,
 "nbformat_minor": 4
}
