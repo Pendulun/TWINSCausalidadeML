{
 "cells": [
  {
   "cell_type": "code",
   "execution_count": 64,
   "metadata": {},
   "outputs": [],
   "source": [
    "import pandas as pd\n",
    "import matplotlib.pyplot as plt\n",
    "# %matplotlib inline\n",
    "from pathlib import Path\n",
    "import numpy as np\n",
    "import seaborn as sn\n",
    "#from causalnex.structure.notears import from_pandas\n",
    "#from causalnex.structure import StructureModel\n",
    "#from IPython.display import Image\n",
    "#from causalnex.plots import plot_structure, NODE_STYLE, EDGE_STYLE"
   ]
  },
  {
   "cell_type": "code",
   "execution_count": 65,
   "metadata": {
    "collapsed": true
   },
   "outputs": [
    {
     "data": {
      "text/html": [
       "<div>\n",
       "<style scoped>\n",
       "    .dataframe tbody tr th:only-of-type {\n",
       "        vertical-align: middle;\n",
       "    }\n",
       "\n",
       "    .dataframe tbody tr th {\n",
       "        vertical-align: top;\n",
       "    }\n",
       "\n",
       "    .dataframe thead th {\n",
       "        text-align: right;\n",
       "    }\n",
       "</style>\n",
       "<table border=\"1\" class=\"dataframe\">\n",
       "  <thead>\n",
       "    <tr style=\"text-align: right;\">\n",
       "      <th></th>\n",
       "      <th>pldel</th>\n",
       "      <th>birattnd</th>\n",
       "      <th>brstate</th>\n",
       "      <th>stoccfipb</th>\n",
       "      <th>mager8</th>\n",
       "      <th>ormoth</th>\n",
       "      <th>mrace</th>\n",
       "      <th>meduc6</th>\n",
       "      <th>dmar</th>\n",
       "      <th>mplbir</th>\n",
       "      <th>...</th>\n",
       "      <th>dtotord_min</th>\n",
       "      <th>brstate_reg</th>\n",
       "      <th>stoccfipb_reg</th>\n",
       "      <th>mplbir_reg</th>\n",
       "      <th>lighter</th>\n",
       "      <th>first</th>\n",
       "      <th>id</th>\n",
       "      <th>weight</th>\n",
       "      <th>died</th>\n",
       "      <th>has_missing</th>\n",
       "    </tr>\n",
       "  </thead>\n",
       "  <tbody>\n",
       "    <tr>\n",
       "      <th>0</th>\n",
       "      <td>1.0</td>\n",
       "      <td>1.0</td>\n",
       "      <td>1.0</td>\n",
       "      <td>1.0</td>\n",
       "      <td>3.0</td>\n",
       "      <td>0.0</td>\n",
       "      <td>1.0</td>\n",
       "      <td>NaN</td>\n",
       "      <td>1.0</td>\n",
       "      <td>31.0</td>\n",
       "      <td>...</td>\n",
       "      <td>NaN</td>\n",
       "      <td>5.0</td>\n",
       "      <td>5.0</td>\n",
       "      <td>1.0</td>\n",
       "      <td>1</td>\n",
       "      <td>NaN</td>\n",
       "      <td>1.0</td>\n",
       "      <td>2268.0</td>\n",
       "      <td>0.0</td>\n",
       "      <td>True</td>\n",
       "    </tr>\n",
       "    <tr>\n",
       "      <th>1</th>\n",
       "      <td>1.0</td>\n",
       "      <td>1.0</td>\n",
       "      <td>1.0</td>\n",
       "      <td>1.0</td>\n",
       "      <td>3.0</td>\n",
       "      <td>0.0</td>\n",
       "      <td>1.0</td>\n",
       "      <td>NaN</td>\n",
       "      <td>1.0</td>\n",
       "      <td>31.0</td>\n",
       "      <td>...</td>\n",
       "      <td>NaN</td>\n",
       "      <td>5.0</td>\n",
       "      <td>5.0</td>\n",
       "      <td>1.0</td>\n",
       "      <td>0</td>\n",
       "      <td>NaN</td>\n",
       "      <td>0.0</td>\n",
       "      <td>2296.0</td>\n",
       "      <td>0.0</td>\n",
       "      <td>True</td>\n",
       "    </tr>\n",
       "    <tr>\n",
       "      <th>2</th>\n",
       "      <td>1.0</td>\n",
       "      <td>1.0</td>\n",
       "      <td>1.0</td>\n",
       "      <td>1.0</td>\n",
       "      <td>3.0</td>\n",
       "      <td>0.0</td>\n",
       "      <td>2.0</td>\n",
       "      <td>3.0</td>\n",
       "      <td>0.0</td>\n",
       "      <td>1.0</td>\n",
       "      <td>...</td>\n",
       "      <td>3.0</td>\n",
       "      <td>5.0</td>\n",
       "      <td>5.0</td>\n",
       "      <td>5.0</td>\n",
       "      <td>1</td>\n",
       "      <td>0.0</td>\n",
       "      <td>7.0</td>\n",
       "      <td>2610.0</td>\n",
       "      <td>0.0</td>\n",
       "      <td>True</td>\n",
       "    </tr>\n",
       "    <tr>\n",
       "      <th>3</th>\n",
       "      <td>1.0</td>\n",
       "      <td>1.0</td>\n",
       "      <td>1.0</td>\n",
       "      <td>1.0</td>\n",
       "      <td>3.0</td>\n",
       "      <td>0.0</td>\n",
       "      <td>2.0</td>\n",
       "      <td>3.0</td>\n",
       "      <td>0.0</td>\n",
       "      <td>1.0</td>\n",
       "      <td>...</td>\n",
       "      <td>3.0</td>\n",
       "      <td>5.0</td>\n",
       "      <td>5.0</td>\n",
       "      <td>5.0</td>\n",
       "      <td>0</td>\n",
       "      <td>1.0</td>\n",
       "      <td>6.0</td>\n",
       "      <td>2650.0</td>\n",
       "      <td>0.0</td>\n",
       "      <td>True</td>\n",
       "    </tr>\n",
       "    <tr>\n",
       "      <th>4</th>\n",
       "      <td>1.0</td>\n",
       "      <td>1.0</td>\n",
       "      <td>1.0</td>\n",
       "      <td>1.0</td>\n",
       "      <td>5.0</td>\n",
       "      <td>0.0</td>\n",
       "      <td>1.0</td>\n",
       "      <td>5.0</td>\n",
       "      <td>1.0</td>\n",
       "      <td>59.0</td>\n",
       "      <td>...</td>\n",
       "      <td>NaN</td>\n",
       "      <td>5.0</td>\n",
       "      <td>5.0</td>\n",
       "      <td>1.0</td>\n",
       "      <td>1</td>\n",
       "      <td>NaN</td>\n",
       "      <td>11.0</td>\n",
       "      <td>1985.0</td>\n",
       "      <td>0.0</td>\n",
       "      <td>True</td>\n",
       "    </tr>\n",
       "  </tbody>\n",
       "</table>\n",
       "<p>5 rows × 54 columns</p>\n",
       "</div>"
      ],
      "text/plain": [
       "   pldel  birattnd  brstate  stoccfipb  mager8  ormoth  mrace  meduc6  dmar  \\\n",
       "0    1.0       1.0      1.0        1.0     3.0     0.0    1.0     NaN   1.0   \n",
       "1    1.0       1.0      1.0        1.0     3.0     0.0    1.0     NaN   1.0   \n",
       "2    1.0       1.0      1.0        1.0     3.0     0.0    2.0     3.0   0.0   \n",
       "3    1.0       1.0      1.0        1.0     3.0     0.0    2.0     3.0   0.0   \n",
       "4    1.0       1.0      1.0        1.0     5.0     0.0    1.0     5.0   1.0   \n",
       "\n",
       "   mplbir     ...       dtotord_min  brstate_reg  stoccfipb_reg  mplbir_reg  \\\n",
       "0    31.0     ...               NaN          5.0            5.0         1.0   \n",
       "1    31.0     ...               NaN          5.0            5.0         1.0   \n",
       "2     1.0     ...               3.0          5.0            5.0         5.0   \n",
       "3     1.0     ...               3.0          5.0            5.0         5.0   \n",
       "4    59.0     ...               NaN          5.0            5.0         1.0   \n",
       "\n",
       "   lighter  first    id  weight  died  has_missing  \n",
       "0        1    NaN   1.0  2268.0   0.0         True  \n",
       "1        0    NaN   0.0  2296.0   0.0         True  \n",
       "2        1    0.0   7.0  2610.0   0.0         True  \n",
       "3        0    1.0   6.0  2650.0   0.0         True  \n",
       "4        1    NaN  11.0  1985.0   0.0         True  \n",
       "\n",
       "[5 rows x 54 columns]"
      ]
     },
     "execution_count": 65,
     "metadata": {},
     "output_type": "execute_result"
    }
   ],
   "source": [
    "data = pd.read_csv(\"../data/treated/twins_data.csv\")\n",
    "data.head()"
   ]
  },
  {
   "cell_type": "code",
   "execution_count": 66,
   "metadata": {
    "scrolled": true
   },
   "outputs": [
    {
     "data": {
      "text/html": [
       "<div>\n",
       "<style scoped>\n",
       "    .dataframe tbody tr th:only-of-type {\n",
       "        vertical-align: middle;\n",
       "    }\n",
       "\n",
       "    .dataframe tbody tr th {\n",
       "        vertical-align: top;\n",
       "    }\n",
       "\n",
       "    .dataframe thead th {\n",
       "        text-align: right;\n",
       "    }\n",
       "</style>\n",
       "<table border=\"1\" class=\"dataframe\">\n",
       "  <thead>\n",
       "    <tr style=\"text-align: right;\">\n",
       "      <th></th>\n",
       "      <th>pldel</th>\n",
       "      <th>birattnd</th>\n",
       "      <th>brstate</th>\n",
       "      <th>stoccfipb</th>\n",
       "      <th>mager8</th>\n",
       "      <th>ormoth</th>\n",
       "      <th>mrace</th>\n",
       "      <th>meduc6</th>\n",
       "      <th>dmar</th>\n",
       "      <th>mplbir</th>\n",
       "      <th>...</th>\n",
       "      <th>dtotord_min</th>\n",
       "      <th>brstate_reg</th>\n",
       "      <th>stoccfipb_reg</th>\n",
       "      <th>mplbir_reg</th>\n",
       "      <th>lighter</th>\n",
       "      <th>first</th>\n",
       "      <th>id</th>\n",
       "      <th>weight</th>\n",
       "      <th>died</th>\n",
       "      <th>has_missing</th>\n",
       "    </tr>\n",
       "  </thead>\n",
       "  <tbody>\n",
       "    <tr>\n",
       "      <th>0</th>\n",
       "      <td>1.0</td>\n",
       "      <td>1.0</td>\n",
       "      <td>1.0</td>\n",
       "      <td>1.0</td>\n",
       "      <td>3.0</td>\n",
       "      <td>0.0</td>\n",
       "      <td>1.0</td>\n",
       "      <td>NaN</td>\n",
       "      <td>1.0</td>\n",
       "      <td>31.0</td>\n",
       "      <td>...</td>\n",
       "      <td>NaN</td>\n",
       "      <td>5.0</td>\n",
       "      <td>5.0</td>\n",
       "      <td>1.0</td>\n",
       "      <td>1</td>\n",
       "      <td>NaN</td>\n",
       "      <td>1.0</td>\n",
       "      <td>2268.0</td>\n",
       "      <td>0.0</td>\n",
       "      <td>True</td>\n",
       "    </tr>\n",
       "    <tr>\n",
       "      <th>1</th>\n",
       "      <td>1.0</td>\n",
       "      <td>1.0</td>\n",
       "      <td>1.0</td>\n",
       "      <td>1.0</td>\n",
       "      <td>3.0</td>\n",
       "      <td>0.0</td>\n",
       "      <td>1.0</td>\n",
       "      <td>NaN</td>\n",
       "      <td>1.0</td>\n",
       "      <td>31.0</td>\n",
       "      <td>...</td>\n",
       "      <td>NaN</td>\n",
       "      <td>5.0</td>\n",
       "      <td>5.0</td>\n",
       "      <td>1.0</td>\n",
       "      <td>0</td>\n",
       "      <td>NaN</td>\n",
       "      <td>0.0</td>\n",
       "      <td>2296.0</td>\n",
       "      <td>0.0</td>\n",
       "      <td>True</td>\n",
       "    </tr>\n",
       "    <tr>\n",
       "      <th>2</th>\n",
       "      <td>1.0</td>\n",
       "      <td>1.0</td>\n",
       "      <td>1.0</td>\n",
       "      <td>1.0</td>\n",
       "      <td>3.0</td>\n",
       "      <td>0.0</td>\n",
       "      <td>2.0</td>\n",
       "      <td>3.0</td>\n",
       "      <td>0.0</td>\n",
       "      <td>1.0</td>\n",
       "      <td>...</td>\n",
       "      <td>3.0</td>\n",
       "      <td>5.0</td>\n",
       "      <td>5.0</td>\n",
       "      <td>5.0</td>\n",
       "      <td>1</td>\n",
       "      <td>0.0</td>\n",
       "      <td>7.0</td>\n",
       "      <td>2610.0</td>\n",
       "      <td>0.0</td>\n",
       "      <td>True</td>\n",
       "    </tr>\n",
       "    <tr>\n",
       "      <th>3</th>\n",
       "      <td>1.0</td>\n",
       "      <td>1.0</td>\n",
       "      <td>1.0</td>\n",
       "      <td>1.0</td>\n",
       "      <td>3.0</td>\n",
       "      <td>0.0</td>\n",
       "      <td>2.0</td>\n",
       "      <td>3.0</td>\n",
       "      <td>0.0</td>\n",
       "      <td>1.0</td>\n",
       "      <td>...</td>\n",
       "      <td>3.0</td>\n",
       "      <td>5.0</td>\n",
       "      <td>5.0</td>\n",
       "      <td>5.0</td>\n",
       "      <td>0</td>\n",
       "      <td>1.0</td>\n",
       "      <td>6.0</td>\n",
       "      <td>2650.0</td>\n",
       "      <td>0.0</td>\n",
       "      <td>True</td>\n",
       "    </tr>\n",
       "    <tr>\n",
       "      <th>4</th>\n",
       "      <td>1.0</td>\n",
       "      <td>1.0</td>\n",
       "      <td>1.0</td>\n",
       "      <td>1.0</td>\n",
       "      <td>5.0</td>\n",
       "      <td>0.0</td>\n",
       "      <td>1.0</td>\n",
       "      <td>5.0</td>\n",
       "      <td>1.0</td>\n",
       "      <td>59.0</td>\n",
       "      <td>...</td>\n",
       "      <td>NaN</td>\n",
       "      <td>5.0</td>\n",
       "      <td>5.0</td>\n",
       "      <td>1.0</td>\n",
       "      <td>1</td>\n",
       "      <td>NaN</td>\n",
       "      <td>11.0</td>\n",
       "      <td>1985.0</td>\n",
       "      <td>0.0</td>\n",
       "      <td>True</td>\n",
       "    </tr>\n",
       "  </tbody>\n",
       "</table>\n",
       "<p>5 rows × 54 columns</p>\n",
       "</div>"
      ],
      "text/plain": [
       "   pldel  birattnd  brstate  stoccfipb  mager8  ormoth  mrace  meduc6  dmar  \\\n",
       "0    1.0       1.0      1.0        1.0     3.0     0.0    1.0     NaN   1.0   \n",
       "1    1.0       1.0      1.0        1.0     3.0     0.0    1.0     NaN   1.0   \n",
       "2    1.0       1.0      1.0        1.0     3.0     0.0    2.0     3.0   0.0   \n",
       "3    1.0       1.0      1.0        1.0     3.0     0.0    2.0     3.0   0.0   \n",
       "4    1.0       1.0      1.0        1.0     5.0     0.0    1.0     5.0   1.0   \n",
       "\n",
       "   mplbir     ...       dtotord_min  brstate_reg  stoccfipb_reg  mplbir_reg  \\\n",
       "0    31.0     ...               NaN          5.0            5.0         1.0   \n",
       "1    31.0     ...               NaN          5.0            5.0         1.0   \n",
       "2     1.0     ...               3.0          5.0            5.0         5.0   \n",
       "3     1.0     ...               3.0          5.0            5.0         5.0   \n",
       "4    59.0     ...               NaN          5.0            5.0         1.0   \n",
       "\n",
       "   lighter  first    id  weight  died  has_missing  \n",
       "0        1    NaN   1.0  2268.0   0.0         True  \n",
       "1        0    NaN   0.0  2296.0   0.0         True  \n",
       "2        1    0.0   7.0  2610.0   0.0         True  \n",
       "3        0    1.0   6.0  2650.0   0.0         True  \n",
       "4        1    NaN  11.0  1985.0   0.0         True  \n",
       "\n",
       "[5 rows x 54 columns]"
      ]
     },
     "execution_count": 66,
     "metadata": {},
     "output_type": "execute_result"
    }
   ],
   "source": [
    "alive = data[data[\"died\"] == 0]\n",
    "alive.head()"
   ]
  },
  {
   "cell_type": "code",
   "execution_count": 67,
   "metadata": {
    "scrolled": true
   },
   "outputs": [
    {
     "data": {
      "text/html": [
       "<div>\n",
       "<style scoped>\n",
       "    .dataframe tbody tr th:only-of-type {\n",
       "        vertical-align: middle;\n",
       "    }\n",
       "\n",
       "    .dataframe tbody tr th {\n",
       "        vertical-align: top;\n",
       "    }\n",
       "\n",
       "    .dataframe thead th {\n",
       "        text-align: right;\n",
       "    }\n",
       "</style>\n",
       "<table border=\"1\" class=\"dataframe\">\n",
       "  <thead>\n",
       "    <tr style=\"text-align: right;\">\n",
       "      <th></th>\n",
       "      <th>pldel</th>\n",
       "      <th>birattnd</th>\n",
       "      <th>brstate</th>\n",
       "      <th>stoccfipb</th>\n",
       "      <th>mager8</th>\n",
       "      <th>ormoth</th>\n",
       "      <th>mrace</th>\n",
       "      <th>meduc6</th>\n",
       "      <th>dmar</th>\n",
       "      <th>mplbir</th>\n",
       "      <th>...</th>\n",
       "      <th>dtotord_min</th>\n",
       "      <th>brstate_reg</th>\n",
       "      <th>stoccfipb_reg</th>\n",
       "      <th>mplbir_reg</th>\n",
       "      <th>lighter</th>\n",
       "      <th>first</th>\n",
       "      <th>id</th>\n",
       "      <th>weight</th>\n",
       "      <th>died</th>\n",
       "      <th>has_missing</th>\n",
       "    </tr>\n",
       "  </thead>\n",
       "  <tbody>\n",
       "    <tr>\n",
       "      <th>29</th>\n",
       "      <td>1.0</td>\n",
       "      <td>1.0</td>\n",
       "      <td>1.0</td>\n",
       "      <td>1.0</td>\n",
       "      <td>3.0</td>\n",
       "      <td>0.0</td>\n",
       "      <td>1.0</td>\n",
       "      <td>2.0</td>\n",
       "      <td>0.0</td>\n",
       "      <td>1.0</td>\n",
       "      <td>...</td>\n",
       "      <td>NaN</td>\n",
       "      <td>5.0</td>\n",
       "      <td>5.0</td>\n",
       "      <td>5.0</td>\n",
       "      <td>0</td>\n",
       "      <td>NaN</td>\n",
       "      <td>46.0</td>\n",
       "      <td>850.0</td>\n",
       "      <td>1.0</td>\n",
       "      <td>True</td>\n",
       "    </tr>\n",
       "    <tr>\n",
       "      <th>53</th>\n",
       "      <td>1.0</td>\n",
       "      <td>1.0</td>\n",
       "      <td>1.0</td>\n",
       "      <td>1.0</td>\n",
       "      <td>4.0</td>\n",
       "      <td>0.0</td>\n",
       "      <td>1.0</td>\n",
       "      <td>3.0</td>\n",
       "      <td>1.0</td>\n",
       "      <td>1.0</td>\n",
       "      <td>...</td>\n",
       "      <td>4.0</td>\n",
       "      <td>5.0</td>\n",
       "      <td>5.0</td>\n",
       "      <td>5.0</td>\n",
       "      <td>0</td>\n",
       "      <td>0.0</td>\n",
       "      <td>85.0</td>\n",
       "      <td>1559.0</td>\n",
       "      <td>1.0</td>\n",
       "      <td>False</td>\n",
       "    </tr>\n",
       "    <tr>\n",
       "      <th>98</th>\n",
       "      <td>1.0</td>\n",
       "      <td>1.0</td>\n",
       "      <td>1.0</td>\n",
       "      <td>1.0</td>\n",
       "      <td>4.0</td>\n",
       "      <td>0.0</td>\n",
       "      <td>1.0</td>\n",
       "      <td>5.0</td>\n",
       "      <td>1.0</td>\n",
       "      <td>1.0</td>\n",
       "      <td>...</td>\n",
       "      <td>2.0</td>\n",
       "      <td>5.0</td>\n",
       "      <td>5.0</td>\n",
       "      <td>5.0</td>\n",
       "      <td>1</td>\n",
       "      <td>1.0</td>\n",
       "      <td>162.0</td>\n",
       "      <td>1350.0</td>\n",
       "      <td>1.0</td>\n",
       "      <td>True</td>\n",
       "    </tr>\n",
       "    <tr>\n",
       "      <th>124</th>\n",
       "      <td>1.0</td>\n",
       "      <td>1.0</td>\n",
       "      <td>1.0</td>\n",
       "      <td>1.0</td>\n",
       "      <td>2.0</td>\n",
       "      <td>0.0</td>\n",
       "      <td>1.0</td>\n",
       "      <td>1.0</td>\n",
       "      <td>0.0</td>\n",
       "      <td>1.0</td>\n",
       "      <td>...</td>\n",
       "      <td>NaN</td>\n",
       "      <td>5.0</td>\n",
       "      <td>5.0</td>\n",
       "      <td>5.0</td>\n",
       "      <td>1</td>\n",
       "      <td>NaN</td>\n",
       "      <td>213.0</td>\n",
       "      <td>709.0</td>\n",
       "      <td>1.0</td>\n",
       "      <td>True</td>\n",
       "    </tr>\n",
       "    <tr>\n",
       "      <th>125</th>\n",
       "      <td>1.0</td>\n",
       "      <td>1.0</td>\n",
       "      <td>1.0</td>\n",
       "      <td>1.0</td>\n",
       "      <td>2.0</td>\n",
       "      <td>0.0</td>\n",
       "      <td>1.0</td>\n",
       "      <td>1.0</td>\n",
       "      <td>0.0</td>\n",
       "      <td>1.0</td>\n",
       "      <td>...</td>\n",
       "      <td>NaN</td>\n",
       "      <td>5.0</td>\n",
       "      <td>5.0</td>\n",
       "      <td>5.0</td>\n",
       "      <td>0</td>\n",
       "      <td>NaN</td>\n",
       "      <td>212.0</td>\n",
       "      <td>737.0</td>\n",
       "      <td>1.0</td>\n",
       "      <td>True</td>\n",
       "    </tr>\n",
       "  </tbody>\n",
       "</table>\n",
       "<p>5 rows × 54 columns</p>\n",
       "</div>"
      ],
      "text/plain": [
       "     pldel  birattnd  brstate  stoccfipb  mager8  ormoth  mrace  meduc6  dmar  \\\n",
       "29     1.0       1.0      1.0        1.0     3.0     0.0    1.0     2.0   0.0   \n",
       "53     1.0       1.0      1.0        1.0     4.0     0.0    1.0     3.0   1.0   \n",
       "98     1.0       1.0      1.0        1.0     4.0     0.0    1.0     5.0   1.0   \n",
       "124    1.0       1.0      1.0        1.0     2.0     0.0    1.0     1.0   0.0   \n",
       "125    1.0       1.0      1.0        1.0     2.0     0.0    1.0     1.0   0.0   \n",
       "\n",
       "     mplbir     ...       dtotord_min  brstate_reg  stoccfipb_reg  mplbir_reg  \\\n",
       "29      1.0     ...               NaN          5.0            5.0         5.0   \n",
       "53      1.0     ...               4.0          5.0            5.0         5.0   \n",
       "98      1.0     ...               2.0          5.0            5.0         5.0   \n",
       "124     1.0     ...               NaN          5.0            5.0         5.0   \n",
       "125     1.0     ...               NaN          5.0            5.0         5.0   \n",
       "\n",
       "     lighter  first     id  weight  died  has_missing  \n",
       "29         0    NaN   46.0   850.0   1.0         True  \n",
       "53         0    0.0   85.0  1559.0   1.0        False  \n",
       "98         1    1.0  162.0  1350.0   1.0         True  \n",
       "124        1    NaN  213.0   709.0   1.0         True  \n",
       "125        0    NaN  212.0   737.0   1.0         True  \n",
       "\n",
       "[5 rows x 54 columns]"
      ]
     },
     "execution_count": 67,
     "metadata": {},
     "output_type": "execute_result"
    }
   ],
   "source": [
    "dead = data[data[\"died\"] == 1]\n",
    "dead.head()"
   ]
  },
  {
   "cell_type": "code",
   "execution_count": 86,
   "metadata": {},
   "outputs": [
    {
     "name": "stdout",
     "output_type": "stream",
     "text": [
      "0.03591001471721915\n"
     ]
    }
   ],
   "source": [
    "mortality = data[\"died\"].mean()\n",
    "print(mortality)"
   ]
  },
  {
   "cell_type": "markdown",
   "metadata": {},
   "source": [
    "Media de algumas colunas interessantes, comparando entre indivíduos falecidos e vivos"
   ]
  },
  {
   "cell_type": "code",
   "execution_count": 69,
   "metadata": {
    "scrolled": true
   },
   "outputs": [
    {
     "name": "stdout",
     "output_type": "stream",
     "text": [
      "997.9108118657299\n",
      "2455.239615893462\n"
     ]
    }
   ],
   "source": [
    "#peso\n",
    "d_weight_mean = dead[\"weight\"].mean()\n",
    "print(d_weight_mean)\n",
    "\n",
    "a_weight_mean = alive[\"weight\"].mean()\n",
    "print(a_weight_mean)"
   ]
  },
  {
   "cell_type": "markdown",
   "metadata": {},
   "source": [
    "Fatores de risco relacionados diretamente à saúde:"
   ]
  },
  {
   "cell_type": "code",
   "execution_count": 70,
   "metadata": {},
   "outputs": [
    {
     "name": "stdout",
     "output_type": "stream",
     "text": [
      "0.40106951871657753\n",
      "0.34705279446934223\n",
      "0.19167550371155886\n",
      "0.16188626630813663\n"
     ]
    }
   ],
   "source": [
    "#cigarro e tabaco\n",
    "d_cig_mean = dead[\"cigar6\"].mean()\n",
    "print(d_cig_mean)\n",
    "a_cig_mean = alive[\"cigar6\"].mean()\n",
    "print(a_cig_mean)\n",
    "\n",
    "d_tab_mean = dead[\"tobacco\"].mean()\n",
    "print(d_tab_mean)\n",
    "a_tab_mean = alive[\"tobacco\"].mean()\n",
    "print(a_tab_mean)"
   ]
  },
  {
   "cell_type": "code",
   "execution_count": 71,
   "metadata": {
    "scrolled": true
   },
   "outputs": [
    {
     "name": "stdout",
     "output_type": "stream",
     "text": [
      "0.04541895066562255\n",
      "0.030776454935874234\n"
     ]
    }
   ],
   "source": [
    "#media do número de drinks/semana\n",
    "d_alc_mean = dead[\"drink5\"].mean()\n",
    "print(d_alc_mean)\n",
    "a_alc_mean = alive[\"drink5\"].mean()\n",
    "print(a_alc_mean)"
   ]
  },
  {
   "cell_type": "code",
   "execution_count": 72,
   "metadata": {
    "scrolled": true
   },
   "outputs": [
    {
     "name": "stdout",
     "output_type": "stream",
     "text": [
      "0.0036016949152542373\n",
      "0.0037917985944860605\n"
     ]
    }
   ],
   "source": [
    "#média do risco cardíaco\n",
    "d_car_mean = dead[\"cardiac\"].mean()\n",
    "print(d_car_mean)\n",
    "a_car_min = alive[\"cardiac\"].mean()\n",
    "print(a_car_min)"
   ]
  },
  {
   "cell_type": "code",
   "execution_count": 73,
   "metadata": {},
   "outputs": [
    {
     "name": "stdout",
     "output_type": "stream",
     "text": [
      "0.03346456692913386\n",
      "0.035175240460127745\n"
     ]
    }
   ],
   "source": [
    "#mortalidades fixando o fator de risco\n",
    "card = data[data[\"cardiac\"] == 1]\n",
    "n_card = data[data[\"cardiac\"] == 0]\n",
    "\n",
    "dead_card = card[\"died\"].mean()\n",
    "dead_normal = n_card[\"died\"].mean()\n",
    "\n",
    "print(dead_card)\n",
    "print(dead_normal)\n"
   ]
  },
  {
   "cell_type": "code",
   "execution_count": 74,
   "metadata": {
    "scrolled": true
   },
   "outputs": [
    {
     "name": "stdout",
     "output_type": "stream",
     "text": [
      "0.007627118644067797\n",
      "0.0033052745385744073\n"
     ]
    }
   ],
   "source": [
    "#média do risco pulmonar\n",
    "d_lun_mean = dead[\"lung\"].mean()\n",
    "print(d_lun_mean)\n",
    "a_lun_mean = alive[\"lung\"].mean()\n",
    "print(a_lun_mean)"
   ]
  },
  {
   "cell_type": "code",
   "execution_count": 75,
   "metadata": {
    "scrolled": true
   },
   "outputs": [
    {
     "name": "stdout",
     "output_type": "stream",
     "text": [
      "0.07758620689655173\n",
      "0.035021608122859746\n"
     ]
    }
   ],
   "source": [
    "#mortalidades fixando o fator de risco\n",
    "lung = data[data[\"lung\"] == 1]\n",
    "n_lung = data[data[\"lung\"] == 0]\n",
    "\n",
    "dead_lung = lung[\"died\"].mean()\n",
    "dead_normal = n_lung[\"died\"].mean()\n",
    "\n",
    "print(dead_lung)\n",
    "print(dead_normal)"
   ]
  },
  {
   "cell_type": "code",
   "execution_count": 76,
   "metadata": {
    "scrolled": true
   },
   "outputs": [
    {
     "name": "stdout",
     "output_type": "stream",
     "text": [
      "0.004661016949152543\n",
      "0.012433392539964476\n"
     ]
    }
   ],
   "source": [
    "#média do risco de eclampsia\n",
    "d_ecl_mean = dead[\"eclamp\"].mean()\n",
    "print(d_ecl_mean)\n",
    "a_ecl_mean = alive[\"eclamp\"].mean()\n",
    "print(a_ecl_mean)"
   ]
  },
  {
   "cell_type": "code",
   "execution_count": 77,
   "metadata": {
    "scrolled": true
   },
   "outputs": [
    {
     "name": "stdout",
     "output_type": "stream",
     "text": [
      "0.013480392156862746\n",
      "0.03543574348685302\n"
     ]
    }
   ],
   "source": [
    "#mortalidades fixando o fator de risco\n",
    "eclampsia = data[data[\"eclamp\"] == 1]\n",
    "n_eclampsia = data[data[\"eclamp\"] == 0]\n",
    "\n",
    "dead_eclampsia = eclampsia[\"died\"].mean()\n",
    "dead_normal = n_eclampsia[\"died\"].mean()\n",
    "\n",
    "print(dead_eclampsia)\n",
    "print(dead_normal)\n",
    "\n",
    "#taxa de mortalidade de bebês vindos de gravidez com risco de eclampsia é menor???????"
   ]
  },
  {
   "cell_type": "code",
   "execution_count": 89,
   "metadata": {},
   "outputs": [
    {
     "data": {
      "image/png": "[encoded data removed]",
      "text/plain": [
       "<Figure size 432x288 with 1 Axes>"
      ]
     },
     "metadata": {
      "needs_background": "light"
     },
     "output_type": "display_data"
    },
    {
     "name": "stdout",
     "output_type": "stream",
     "text": [
      "1.2663316582914572\n",
      "1.2602190961896984\n"
     ]
    }
   ],
   "source": [
    "plt.hist(eclampsia[\"mpre5\"])\n",
    "plt.show()\n",
    "print(eclampsia['mpre5'].mean())\n",
    "print(n_eclampsia['mpre5'].mean())"
   ]
  },
  {
   "cell_type": "code",
   "execution_count": 88,
   "metadata": {},
   "outputs": [
    {
     "name": "stdout",
     "output_type": "stream",
     "text": [
      "1.9393548387096775\n",
      "1.9060732268291167\n",
      "1.317769130998703\n",
      "1.3151236071602572\n"
     ]
    }
   ],
   "source": [
    "print(eclampsia['nprevistq'].mean())\n",
    "print(n_eclampsia['nprevistq'].mean())\n",
    "\n",
    "print(eclampsia['adequacy'].mean())\n",
    "print(n_eclampsia['adequacy'].mean())"
   ]
  },
  {
   "cell_type": "code",
   "execution_count": 206,
   "metadata": {
    "scrolled": true
   },
   "outputs": [
    {
     "name": "stdout",
     "output_type": "stream",
     "text": [
      "0.03629976580796253\n",
      "0.028931567393105855\n"
     ]
    }
   ],
   "source": [
    "#média do risco de anemia\n",
    "d_ane_mean = dead[\"anemia\"].mean()\n",
    "print(d_ane_mean)\n",
    "a_ane_mean = alive[\"anemia\"].mean()\n",
    "print(a_ane_mean)"
   ]
  },
  {
   "cell_type": "code",
   "execution_count": 207,
   "metadata": {},
   "outputs": [
    {
     "name": "stdout",
     "output_type": "stream",
     "text": [
      "0.04464714354296687\n",
      "0.03564725246166729\n"
     ]
    }
   ],
   "source": [
    "#mortalidades fixando o fator de risco\n",
    "ane = data[data[\"anemia\"] == 1]\n",
    "n_ane = data[data[\"anemia\"] == 0]\n",
    "\n",
    "dead_ane = ane[\"died\"].mean()\n",
    "dead_normal = n_ane[\"died\"].mean()\n",
    "\n",
    "print(dead_ane)\n",
    "print(dead_normal)"
   ]
  },
  {
   "cell_type": "code",
   "execution_count": 208,
   "metadata": {
    "scrolled": true
   },
   "outputs": [
    {
     "name": "stdout",
     "output_type": "stream",
     "text": [
      "0.030249804839968773\n",
      "0.00810520041289272\n"
     ]
    }
   ],
   "source": [
    "#média de sangramento uterino\n",
    "d_utb_mean = dead[\"uterine\"].mean()\n",
    "print(d_utb_mean)\n",
    "a_utb_mean = alive[\"uterine\"].mean()\n",
    "print(a_utb_mean)"
   ]
  },
  {
   "cell_type": "code",
   "execution_count": 209,
   "metadata": {},
   "outputs": [
    {
     "name": "stdout",
     "output_type": "stream",
     "text": [
      "0.1220472440944882\n",
      "0.03513647291755056\n"
     ]
    }
   ],
   "source": [
    "#mortalidades fixando o fator de risco\n",
    "uterine = data[data[\"uterine\"] == 1]\n",
    "n_uterine = data[data[\"uterine\"] == 0]\n",
    "\n",
    "dead_uterine = uterine[\"died\"].mean()\n",
    "dead_normal = n_uterine[\"died\"].mean()\n",
    "\n",
    "print(dead_uterine)\n",
    "print(dead_normal)"
   ]
  },
  {
   "cell_type": "code",
   "execution_count": 210,
   "metadata": {},
   "outputs": [
    {
     "name": "stdout",
     "output_type": "stream",
     "text": [
      "0.008001561280249805\n",
      "0.007160199467891776\n"
     ]
    }
   ],
   "source": [
    "#hipertensao\n",
    "d_hyp_mean = dead[\"chyper\"].mean()\n",
    "print(d_hyp_mean)\n",
    "a_hyp_mean = alive[\"chyper\"].mean()\n",
    "print(a_hyp_mean)"
   ]
  },
  {
   "cell_type": "code",
   "execution_count": 211,
   "metadata": {},
   "outputs": [
    {
     "name": "stdout",
     "output_type": "stream",
     "text": [
      "0.03996101364522417\n",
      "0.035880675400948726\n"
     ]
    }
   ],
   "source": [
    "#mortalidades fixando o fator de risco\n",
    "hyper = data[data[\"chyper\"] == 1]\n",
    "n_hyper = data[data[\"chyper\"] == 0]\n",
    "\n",
    "dead_hyper = hyper[\"died\"].mean()\n",
    "dead_normal = n_hyper[\"died\"].mean()\n",
    "\n",
    "print(dead_hyper)\n",
    "print(dead_normal)"
   ]
  },
  {
   "cell_type": "code",
   "execution_count": 212,
   "metadata": {},
   "outputs": [
    {
     "name": "stdout",
     "output_type": "stream",
     "text": [
      "0.015027322404371584\n",
      "0.02341421572190803\n"
     ]
    }
   ],
   "source": [
    "#diabetes\n",
    "d_dia_mean = dead[\"diabetes\"].mean()\n",
    "print(d_dia_mean)\n",
    "a_dia_mean = alive[\"diabetes\"].mean()\n",
    "print(a_dia_mean)"
   ]
  },
  {
   "cell_type": "code",
   "execution_count": 213,
   "metadata": {},
   "outputs": [
    {
     "name": "stdout",
     "output_type": "stream",
     "text": [
      "0.023347483323226198\n",
      "0.036207242883379245\n"
     ]
    }
   ],
   "source": [
    "#mortalidades fixando o fator de risco\n",
    "diab = data[data[\"diabetes\"] == 1]\n",
    "n_diab = data[data[\"diabetes\"] == 0]\n",
    "\n",
    "dead_diab = diab[\"died\"].mean()\n",
    "dead_normal = n_diab[\"died\"].mean()\n",
    "\n",
    "print(dead_diab)\n",
    "print(dead_normal)"
   ]
  },
  {
   "cell_type": "code",
   "execution_count": 214,
   "metadata": {},
   "outputs": [
    {
     "name": "stdout",
     "output_type": "stream",
     "text": [
      "0.00078064012490242\n",
      "0.00043615428230812844\n"
     ]
    }
   ],
   "source": [
    "#hemoglobinopatia\n",
    "d_hem_mean = dead[\"hemo\"].mean()\n",
    "print(d_hem_mean)\n",
    "a_hem_mean = alive[\"hemo\"].mean()\n",
    "print(a_hem_mean)"
   ]
  },
  {
   "cell_type": "code",
   "execution_count": 215,
   "metadata": {},
   "outputs": [
    {
     "name": "stdout",
     "output_type": "stream",
     "text": [
      "0.0625\n",
      "0.0358980830984533\n"
     ]
    }
   ],
   "source": [
    "#mortalidades fixando o fator de risco\n",
    "hemo = data[data[\"hemo\"] == 1]\n",
    "n_hemo = data[data[\"hemo\"] == 0]\n",
    "\n",
    "dead_hemo = hemo[\"died\"].mean()\n",
    "dead_normal = n_hemo[\"died\"].mean()\n",
    "\n",
    "print(dead_hemo)\n",
    "print(dead_normal)"
   ]
  },
  {
   "cell_type": "code",
   "execution_count": 216,
   "metadata": {},
   "outputs": [
    {
     "name": "stdout",
     "output_type": "stream",
     "text": [
      "0.00273224043715847\n",
      "0.0053792361484669175\n"
     ]
    }
   ],
   "source": [
    "#herpes\n",
    "d_her_mean = dead[\"herpes\"].mean()\n",
    "print(d_her_mean)\n",
    "a_her_mean = alive[\"herpes\"].mean()\n",
    "print(a_her_mean)"
   ]
  },
  {
   "cell_type": "code",
   "execution_count": 217,
   "metadata": {},
   "outputs": [
    {
     "name": "stdout",
     "output_type": "stream",
     "text": [
      "0.01856763925729443\n",
      "0.036002141810393413\n"
     ]
    }
   ],
   "source": [
    "#mortalidades fixando o fator de risco\n",
    "herp = data[data[\"herpes\"] == 1]\n",
    "n_herp = data[data[\"herpes\"] == 0]\n",
    "\n",
    "dead_herp = herp[\"died\"].mean()\n",
    "dead_normal = n_herp[\"died\"].mean()\n",
    "\n",
    "print(dead_herp)\n",
    "print(dead_normal)"
   ]
  },
  {
   "cell_type": "code",
   "execution_count": 218,
   "metadata": {},
   "outputs": [
    {
     "name": "stdout",
     "output_type": "stream",
     "text": [
      "0.07747853239656519\n",
      "0.007872584795661719\n"
     ]
    }
   ],
   "source": [
    "#Hvdramnios/Oliqohvdramnios\n",
    "d_hyd_mean = dead[\"hydra\"].mean()\n",
    "print(d_hyd_mean)\n",
    "a_hyd_mean = alive[\"hydra\"].mean()\n",
    "print(a_hyd_mean)"
   ]
  },
  {
   "cell_type": "code",
   "execution_count": 219,
   "metadata": {},
   "outputs": [
    {
     "name": "stdout",
     "output_type": "stream",
     "text": [
      "0.2682432432432432\n",
      "0.033474966362155655\n"
     ]
    }
   ],
   "source": [
    "#mortalidades fixando o fator de risco\n",
    "hydr = data[data[\"hydra\"] == 1]\n",
    "n_hydr = data[data[\"hydra\"] == 0]\n",
    "\n",
    "dead_hydr = hydr[\"died\"].mean()\n",
    "dead_normal = n_hydr[\"died\"].mean()\n",
    "\n",
    "print(dead_hydr)\n",
    "print(dead_normal)"
   ]
  },
  {
   "cell_type": "code",
   "execution_count": 220,
   "metadata": {},
   "outputs": [
    {
     "name": "stdout",
     "output_type": "stream",
     "text": [
      "0.02849336455893833\n",
      "0.004361542823081285\n"
     ]
    }
   ],
   "source": [
    "#incompetent cervix\n",
    "d_inc_mean = dead[\"incervix\"].mean()\n",
    "print(d_inc_mean)\n",
    "a_inc_mean = alive[\"incervix\"].mean()\n",
    "print(a_inc_mean)"
   ]
  },
  {
   "cell_type": "code",
   "execution_count": 221,
   "metadata": {},
   "outputs": [
    {
     "name": "stdout",
     "output_type": "stream",
     "text": [
      "0.19571045576407506\n",
      "0.035070168517161694\n"
     ]
    }
   ],
   "source": [
    "#mortalidades fixando o fator de risco\n",
    "inc = data[data[\"incervix\"] == 1]\n",
    "n_inc = data[data[\"incervix\"] == 0]\n",
    "\n",
    "dead_inc = inc[\"died\"].mean()\n",
    "dead_normal = n_inc[\"died\"].mean()\n",
    "\n",
    "print(dead_inc)\n",
    "print(dead_normal)"
   ]
  },
  {
   "cell_type": "code",
   "execution_count": 222,
   "metadata": {},
   "outputs": [
    {
     "name": "stdout",
     "output_type": "stream",
     "text": [
      "0.32201405152224827\n",
      "0.2713315790238867\n"
     ]
    }
   ],
   "source": [
    "#outros riscos\n",
    "d_oth_mean = dead[\"othermr\"].mean()\n",
    "print(d_oth_mean)\n",
    "a_oth_mean = alive[\"othermr\"].mean()\n",
    "print(a_oth_mean)"
   ]
  },
  {
   "cell_type": "code",
   "execution_count": 223,
   "metadata": {},
   "outputs": [
    {
     "name": "stdout",
     "output_type": "stream",
     "text": [
      "0.04233374384236453\n",
      "0.033495960043967064\n"
     ]
    }
   ],
   "source": [
    "#mortalidades fixando o fator de risco\n",
    "oth = data[data[\"othermr\"] == 1]\n",
    "n_oth = data[data[\"othermr\"] == 0]\n",
    "\n",
    "dead_oth = oth[\"died\"].mean()\n",
    "dead_normal = n_oth[\"died\"].mean()\n",
    "\n",
    "print(dead_oth)\n",
    "print(dead_normal)"
   ]
  },
  {
   "cell_type": "code",
   "execution_count": 224,
   "metadata": {},
   "outputs": [
    {
     "name": "stdout",
     "output_type": "stream",
     "text": [
      "0.02654176424668228\n",
      "0.0612215227599843\n"
     ]
    }
   ],
   "source": [
    "#hipertensao associada à gravidez\n",
    "d_phy_mean = dead[\"phyper\"].mean()\n",
    "print(d_phy_mean)\n",
    "a_phy_mean = alive[\"phyper\"].mean()\n",
    "print(a_phy_mean)"
   ]
  },
  {
   "cell_type": "code",
   "execution_count": 225,
   "metadata": {},
   "outputs": [
    {
     "name": "stdout",
     "output_type": "stream",
     "text": [
      "0.015891563449404067\n",
      "0.03718724838219068\n"
     ]
    }
   ],
   "source": [
    "#mortalidades fixando o fator de risco\n",
    "phy = data[data[\"phyper\"] == 1]\n",
    "n_phy = data[data[\"phyper\"] == 0]\n",
    "\n",
    "dead_phy = phy[\"died\"].mean()\n",
    "dead_normal = n_phy[\"died\"].mean()\n",
    "\n",
    "print(dead_phy)\n",
    "print(dead_normal)\n",
    "\n",
    "#??????"
   ]
  },
  {
   "cell_type": "code",
   "execution_count": 226,
   "metadata": {},
   "outputs": [
    {
     "name": "stdout",
     "output_type": "stream",
     "text": [
      "0.0039032006245121\n",
      "0.008752162598316444\n"
     ]
    }
   ],
   "source": [
    "#filho anterior >4000 gramas\n",
    "d_pre4_mean = dead[\"pre4000\"].mean()\n",
    "print(d_pre4_mean)\n",
    "a_pre4_mean = alive[\"pre4000\"].mean()\n",
    "print(a_pre4_mean)"
   ]
  },
  {
   "cell_type": "code",
   "execution_count": 227,
   "metadata": {},
   "outputs": [
    {
     "name": "stdout",
     "output_type": "stream",
     "text": [
      "0.016339869281045753\n",
      "0.03607934061894731\n"
     ]
    }
   ],
   "source": [
    "#mortalidades fixando o fator de risco\n",
    "pre4 = data[data[\"pre4000\"] == 1]\n",
    "n_pre4 = data[data[\"pre4000\"] == 0]\n",
    "\n",
    "dead_pre4 = pre4[\"died\"].mean()\n",
    "dead_normal = n_pre4[\"died\"].mean()\n",
    "\n",
    "print(dead_pre4)\n",
    "print(dead_normal)\n",
    "\n",
    "#??"
   ]
  },
  {
   "cell_type": "code",
   "execution_count": 228,
   "metadata": {},
   "outputs": [
    {
     "name": "stdout",
     "output_type": "stream",
     "text": [
      "0.03395784543325527\n",
      "0.0141459372228603\n"
     ]
    }
   ],
   "source": [
    "#prematuro\n",
    "d_prem_mean = dead[\"preterm\"].mean()\n",
    "print(d_prem_mean)\n",
    "a_prem_mean = alive[\"preterm\"].mean()\n",
    "print(a_prem_mean)"
   ]
  },
  {
   "cell_type": "code",
   "execution_count": 229,
   "metadata": {},
   "outputs": [
    {
     "name": "stdout",
     "output_type": "stream",
     "text": [
      "0.0820754716981132\n",
      "0.035213772497687985\n"
     ]
    }
   ],
   "source": [
    "#mortalidades fixando o fator de risco\n",
    "prem = data[data[\"preterm\"] == 1]\n",
    "n_prem = data[data[\"preterm\"] == 0]\n",
    "\n",
    "dead_prem = prem[\"died\"].mean()\n",
    "dead_normal = n_prem[\"died\"].mean()\n",
    "\n",
    "print(dead_prem)\n",
    "print(dead_normal)"
   ]
  },
  {
   "cell_type": "code",
   "execution_count": 230,
   "metadata": {},
   "outputs": [
    {
     "name": "stdout",
     "output_type": "stream",
     "text": [
      "0.002146760343481655\n",
      "0.0024788101711178635\n"
     ]
    }
   ],
   "source": [
    "#renal\n",
    "d_ren_mean = dead[\"renal\"].mean()\n",
    "print(d_ren_mean)\n",
    "a_ren_mean = alive[\"renal\"].mean()\n",
    "print(a_ren_mean)"
   ]
  },
  {
   "cell_type": "code",
   "execution_count": 231,
   "metadata": {},
   "outputs": [
    {
     "name": "stdout",
     "output_type": "stream",
     "text": [
      "0.03125\n",
      "0.0359215388722618\n"
     ]
    }
   ],
   "source": [
    "#mortalidades fixando o fator de risco\n",
    "ren = data[data[\"renal\"] == 1]\n",
    "n_ren = data[data[\"renal\"] == 0]\n",
    "\n",
    "dead_ren = ren[\"died\"].mean()\n",
    "dead_normal = n_ren[\"died\"].mean()\n",
    "\n",
    "print(dead_ren)\n",
    "print(dead_normal)"
   ]
  },
  {
   "cell_type": "code",
   "execution_count": 232,
   "metadata": {},
   "outputs": [
    {
     "name": "stdout",
     "output_type": "stream",
     "text": [
      "0.00429352068696331\n",
      "0.005277466815928354\n"
     ]
    }
   ],
   "source": [
    "#sensitização de RH\n",
    "d_rh_mean = dead[\"rh\"].mean()\n",
    "print(d_rh_mean)\n",
    "a_rh_mean = alive[\"rh\"].mean()\n",
    "print(a_rh_mean)"
   ]
  },
  {
   "cell_type": "code",
   "execution_count": 233,
   "metadata": {},
   "outputs": [
    {
     "name": "stdout",
     "output_type": "stream",
     "text": [
      "0.029411764705882353\n",
      "0.035944258922658553\n"
     ]
    }
   ],
   "source": [
    "#mortalidades fixando o fator de risco\n",
    "rh = data[data[\"rh\"] == 1]\n",
    "n_rh = data[data[\"rh\"] == 0]\n",
    "\n",
    "dead_rh = rh[\"died\"].mean()\n",
    "dead_normal = n_rh[\"died\"].mean()\n",
    "\n",
    "print(dead_rh)\n",
    "print(dead_normal)"
   ]
  },
  {
   "cell_type": "markdown",
   "metadata": {},
   "source": [
    "Outras features:"
   ]
  },
  {
   "cell_type": "code",
   "execution_count": 234,
   "metadata": {},
   "outputs": [
    {
     "name": "stdout",
     "output_type": "stream",
     "text": [
      "1.4213505074160813\n",
      "1.249734672811596\n"
     ]
    }
   ],
   "source": [
    "#trimestre de começo do cuidado pre-natal // menor = melhor\n",
    "d_pre_mean = dead[\"mpre5\"].mean()\n",
    "print(d_pre_mean)\n",
    "a_pre_mean = alive[\"mpre5\"].mean()\n",
    "print(a_pre_mean)"
   ]
  },
  {
   "cell_type": "code",
   "execution_count": 235,
   "metadata": {},
   "outputs": [
    {
     "data": {
      "image/png": "[encoded data removed]",
      "text/plain": [
       "<Figure size 640x480 with 1 Axes>"
      ]
     },
     "metadata": {},
     "output_type": "display_data"
    }
   ],
   "source": [
    "plt.hist(data[\"mpre5\"])\n",
    "plt.show()"
   ]
  },
  {
   "cell_type": "code",
   "execution_count": 236,
   "metadata": {},
   "outputs": [
    {
     "name": "stdout",
     "output_type": "stream",
     "text": [
      "0.03330945558739255\n",
      "0.037799000357015354\n",
      "0.024067388688327317\n",
      "0.15446500402252614\n"
     ]
    },
    {
     "data": {
      "text/plain": [
       "<BarContainer object of 4 artists>"
      ]
     },
     "execution_count": 236,
     "metadata": {},
     "output_type": "execute_result"
    },
    {
     "data": {
      "image/png": "[encoded data removed]",
      "text/plain": [
       "<Figure size 640x480 with 1 Axes>"
      ]
     },
     "metadata": {},
     "output_type": "display_data"
    }
   ],
   "source": [
    "#mortalidades fixando o fator de risco\n",
    "pre1 = data[data[\"mpre5\"] == 1]\n",
    "pre2 = data[data[\"mpre5\"] == 2]\n",
    "pre3 = data[data[\"mpre5\"] == 3]\n",
    "pre4 = data[data[\"mpre5\"] == 4]\n",
    "\n",
    "dead_pre1 = pre1[\"died\"].mean()\n",
    "dead_pre2 = pre2[\"died\"].mean()\n",
    "dead_pre3 = pre3[\"died\"].mean()\n",
    "dead_pre4 = pre4[\"died\"].mean()\n",
    "\n",
    "print(dead_pre1)\n",
    "print(dead_pre2)\n",
    "print(dead_pre3)\n",
    "print(dead_pre4)\n",
    "\n",
    "plt.bar(range(1,5) , [dead_pre1, dead_pre2, dead_pre3, dead_pre4])"
   ]
  },
  {
   "cell_type": "code",
   "execution_count": 237,
   "metadata": {},
   "outputs": [
    {
     "data": {
      "text/plain": [
       "-0.05529968295527728"
      ]
     },
     "execution_count": 237,
     "metadata": {},
     "output_type": "execute_result"
    }
   ],
   "source": [
    "corr_idade = data[\"mager8\"].corr(data[\"died\"])\n",
    "corr_idade"
   ]
  },
  {
   "cell_type": "code",
   "execution_count": 238,
   "metadata": {},
   "outputs": [
    {
     "name": "stdout",
     "output_type": "stream",
     "text": [
      "0.18501170960187355\n",
      "0.20429466583312736\n"
     ]
    }
   ],
   "source": [
    "#origem da mãe\n",
    "d_mor_mean = dead[\"ormoth\"].mean()\n",
    "print(d_mor_mean)\n",
    "a_mor_mean = alive[\"ormoth\"].mean()\n",
    "print(a_mor_mean)"
   ]
  },
  {
   "cell_type": "code",
   "execution_count": 239,
   "metadata": {},
   "outputs": [
    {
     "name": "stdout",
     "output_type": "stream",
     "text": [
      "0.029690675095958456\n",
      "0.03635285674166069\n"
     ]
    }
   ],
   "source": [
    "#mortalidades fixando a origem da mãe\n",
    "his = data[data[\"ormoth\"] == 1]\n",
    "n_his = data[data[\"ormoth\"] == 0]\n",
    "\n",
    "dead_his = his[\"died\"].mean()\n",
    "dead_normal = n_his[\"died\"].mean()\n",
    "\n",
    "print(dead_his)\n",
    "print(dead_normal)"
   ]
  },
  {
   "cell_type": "code",
   "execution_count": 240,
   "metadata": {
    "scrolled": true
   },
   "outputs": [
    {
     "data": {
      "text/html": [
       "<div>\n",
       "<style scoped>\n",
       "    .dataframe tbody tr th:only-of-type {\n",
       "        vertical-align: middle;\n",
       "    }\n",
       "\n",
       "    .dataframe tbody tr th {\n",
       "        vertical-align: top;\n",
       "    }\n",
       "\n",
       "    .dataframe thead th {\n",
       "        text-align: right;\n",
       "    }\n",
       "</style>\n",
       "<table border=\"1\" class=\"dataframe\">\n",
       "  <thead>\n",
       "    <tr style=\"text-align: right;\">\n",
       "      <th></th>\n",
       "      <th>died</th>\n",
       "      <th>alcohol</th>\n",
       "      <th>anemia</th>\n",
       "      <th>cardiac</th>\n",
       "      <th>chyper</th>\n",
       "      <th>diabetes</th>\n",
       "      <th>eclamp</th>\n",
       "      <th>hemo</th>\n",
       "      <th>herpes</th>\n",
       "      <th>hydra</th>\n",
       "      <th>incervix</th>\n",
       "      <th>lung</th>\n",
       "      <th>othermr</th>\n",
       "      <th>phyper</th>\n",
       "      <th>pre4000</th>\n",
       "      <th>preterm</th>\n",
       "      <th>renal</th>\n",
       "      <th>rh</th>\n",
       "      <th>tobacco</th>\n",
       "      <th>uterine</th>\n",
       "    </tr>\n",
       "  </thead>\n",
       "  <tbody>\n",
       "    <tr>\n",
       "      <th>0</th>\n",
       "      <td>0.0</td>\n",
       "      <td>0.0</td>\n",
       "      <td>0.0</td>\n",
       "      <td>0.0</td>\n",
       "      <td>0.0</td>\n",
       "      <td>0.0</td>\n",
       "      <td>0.0</td>\n",
       "      <td>0.0</td>\n",
       "      <td>0.0</td>\n",
       "      <td>0.0</td>\n",
       "      <td>0.0</td>\n",
       "      <td>0.0</td>\n",
       "      <td>0.0</td>\n",
       "      <td>0.0</td>\n",
       "      <td>0.0</td>\n",
       "      <td>0.0</td>\n",
       "      <td>0.0</td>\n",
       "      <td>0.0</td>\n",
       "      <td>0.0</td>\n",
       "      <td>0.0</td>\n",
       "    </tr>\n",
       "    <tr>\n",
       "      <th>1</th>\n",
       "      <td>0.0</td>\n",
       "      <td>0.0</td>\n",
       "      <td>0.0</td>\n",
       "      <td>0.0</td>\n",
       "      <td>0.0</td>\n",
       "      <td>0.0</td>\n",
       "      <td>0.0</td>\n",
       "      <td>0.0</td>\n",
       "      <td>0.0</td>\n",
       "      <td>0.0</td>\n",
       "      <td>0.0</td>\n",
       "      <td>0.0</td>\n",
       "      <td>0.0</td>\n",
       "      <td>0.0</td>\n",
       "      <td>0.0</td>\n",
       "      <td>0.0</td>\n",
       "      <td>0.0</td>\n",
       "      <td>0.0</td>\n",
       "      <td>0.0</td>\n",
       "      <td>0.0</td>\n",
       "    </tr>\n",
       "    <tr>\n",
       "      <th>2</th>\n",
       "      <td>0.0</td>\n",
       "      <td>0.0</td>\n",
       "      <td>0.0</td>\n",
       "      <td>0.0</td>\n",
       "      <td>0.0</td>\n",
       "      <td>0.0</td>\n",
       "      <td>0.0</td>\n",
       "      <td>0.0</td>\n",
       "      <td>0.0</td>\n",
       "      <td>0.0</td>\n",
       "      <td>0.0</td>\n",
       "      <td>0.0</td>\n",
       "      <td>0.0</td>\n",
       "      <td>1.0</td>\n",
       "      <td>0.0</td>\n",
       "      <td>0.0</td>\n",
       "      <td>0.0</td>\n",
       "      <td>0.0</td>\n",
       "      <td>0.0</td>\n",
       "      <td>0.0</td>\n",
       "    </tr>\n",
       "    <tr>\n",
       "      <th>3</th>\n",
       "      <td>0.0</td>\n",
       "      <td>0.0</td>\n",
       "      <td>0.0</td>\n",
       "      <td>0.0</td>\n",
       "      <td>0.0</td>\n",
       "      <td>0.0</td>\n",
       "      <td>0.0</td>\n",
       "      <td>0.0</td>\n",
       "      <td>0.0</td>\n",
       "      <td>0.0</td>\n",
       "      <td>0.0</td>\n",
       "      <td>0.0</td>\n",
       "      <td>0.0</td>\n",
       "      <td>1.0</td>\n",
       "      <td>0.0</td>\n",
       "      <td>0.0</td>\n",
       "      <td>0.0</td>\n",
       "      <td>0.0</td>\n",
       "      <td>0.0</td>\n",
       "      <td>0.0</td>\n",
       "    </tr>\n",
       "    <tr>\n",
       "      <th>4</th>\n",
       "      <td>0.0</td>\n",
       "      <td>0.0</td>\n",
       "      <td>0.0</td>\n",
       "      <td>0.0</td>\n",
       "      <td>0.0</td>\n",
       "      <td>0.0</td>\n",
       "      <td>0.0</td>\n",
       "      <td>0.0</td>\n",
       "      <td>0.0</td>\n",
       "      <td>0.0</td>\n",
       "      <td>0.0</td>\n",
       "      <td>0.0</td>\n",
       "      <td>0.0</td>\n",
       "      <td>0.0</td>\n",
       "      <td>0.0</td>\n",
       "      <td>0.0</td>\n",
       "      <td>0.0</td>\n",
       "      <td>0.0</td>\n",
       "      <td>0.0</td>\n",
       "      <td>0.0</td>\n",
       "    </tr>\n",
       "  </tbody>\n",
       "</table>\n",
       "</div>"
      ],
      "text/plain": [
       "   died  alcohol  anemia  cardiac  chyper  diabetes  eclamp  hemo  herpes  \\\n",
       "0   0.0      0.0     0.0      0.0     0.0       0.0     0.0   0.0     0.0   \n",
       "1   0.0      0.0     0.0      0.0     0.0       0.0     0.0   0.0     0.0   \n",
       "2   0.0      0.0     0.0      0.0     0.0       0.0     0.0   0.0     0.0   \n",
       "3   0.0      0.0     0.0      0.0     0.0       0.0     0.0   0.0     0.0   \n",
       "4   0.0      0.0     0.0      0.0     0.0       0.0     0.0   0.0     0.0   \n",
       "\n",
       "   hydra  incervix  lung  othermr  phyper  pre4000  preterm  renal   rh  \\\n",
       "0    0.0       0.0   0.0      0.0     0.0      0.0      0.0    0.0  0.0   \n",
       "1    0.0       0.0   0.0      0.0     0.0      0.0      0.0    0.0  0.0   \n",
       "2    0.0       0.0   0.0      0.0     1.0      0.0      0.0    0.0  0.0   \n",
       "3    0.0       0.0   0.0      0.0     1.0      0.0      0.0    0.0  0.0   \n",
       "4    0.0       0.0   0.0      0.0     0.0      0.0      0.0    0.0  0.0   \n",
       "\n",
       "   tobacco  uterine  \n",
       "0      0.0      0.0  \n",
       "1      0.0      0.0  \n",
       "2      0.0      0.0  \n",
       "3      0.0      0.0  \n",
       "4      0.0      0.0  "
      ]
     },
     "execution_count": 240,
     "metadata": {},
     "output_type": "execute_result"
    }
   ],
   "source": [
    "df_fatores = data[[\"died\", \"alcohol\", \"anemia\", \"cardiac\", \"chyper\", \"diabetes\", \"eclamp\", \"hemo\", \"herpes\", \"hydra\", \"incervix\", \"lung\", \"othermr\", \"phyper\", \"pre4000\", \"preterm\", \"renal\", \"rh\", \"tobacco\", \"uterine\"]]\n",
    "df_fatores.head()"
   ]
  },
  {
   "cell_type": "code",
   "execution_count": 241,
   "metadata": {
    "scrolled": true
   },
   "outputs": [
    {
     "data": {
      "image/png": "[encoded data removed]",
      "text/plain": [
       "<Figure size 640x480 with 2 Axes>"
      ]
     },
     "metadata": {},
     "output_type": "display_data"
    },
    {
     "data": {
      "text/plain": [
       "<Figure size 2000x2000 with 0 Axes>"
      ]
     },
     "metadata": {},
     "output_type": "display_data"
    }
   ],
   "source": [
    "corr_matrix = df_fatores.corr()\n",
    "sn.heatmap(corr_matrix)\n",
    "plt.figure(figsize=(20, 20))\n",
    "plt.show()\n",
    "#corr_matrix"
   ]
  },
  {
   "cell_type": "code",
   "execution_count": 242,
   "metadata": {},
   "outputs": [
    {
     "name": "stdout",
     "output_type": "stream",
     "text": [
      "0.04145315487571702\n",
      "0.029140722291407222\n"
     ]
    }
   ],
   "source": [
    "missing = data[data[\"has_missing\"] == 1]\n",
    "n_missing = data[data[\"has_missing\"] == 0]\n",
    "\n",
    "dead_missing = missing[\"died\"].mean()\n",
    "dead_normal = n_missing[\"died\"].mean()\n",
    "\n",
    "print(dead_missing)\n",
    "print(dead_normal)"
   ]
  },
  {
   "cell_type": "code",
   "execution_count": 243,
   "metadata": {},
   "outputs": [
    {
     "name": "stdout",
     "output_type": "stream",
     "text": [
      "0.6346604215456675\n",
      "0.5466321620167774\n"
     ]
    }
   ],
   "source": [
    "d_missing_mean = dead[\"has_missing\"].mean()\n",
    "print(d_missing_mean)\n",
    "a_missing_mean = alive[\"has_missing\"].mean()\n",
    "print(a_missing_mean)"
   ]
  },
  {
   "cell_type": "code",
   "execution_count": 244,
   "metadata": {},
   "outputs": [],
   "source": [
    "drop_col = ['id','birattnd', 'birmon', 'brstate', 'brstate_reg', \n",
    "            'crace', 'csex', 'data_year', 'dmar', 'feduc6', 'frace', 'meduc6',\n",
    "            'mplbir', 'mplbir_reg', 'mrace', 'orfath', 'ormoth', 'pldel',\n",
    "            'stoccfipb', 'stoccfipb_reg']\n",
    "data_clean = data.drop(columns = drop_col)\n",
    "data_clean['has_missing'] = data_clean['has_missing'].apply(lambda x: 1 if x else 0)\n",
    "data_clean = data_clean.dropna(how='any')"
   ]
  },
  {
   "cell_type": "code",
   "execution_count": 245,
   "metadata": {},
   "outputs": [
    {
     "data": {
      "text/plain": [
       "142690"
      ]
     },
     "execution_count": 245,
     "metadata": {},
     "output_type": "execute_result"
    }
   ],
   "source": [
    "len(data_clean)"
   ]
  },
  {
   "cell_type": "code",
   "execution_count": 246,
   "metadata": {},
   "outputs": [],
   "source": [
    "import networkx as nx"
   ]
  },
  {
   "cell_type": "code",
   "execution_count": 247,
   "metadata": {},
   "outputs": [],
   "source": [
    "sm = from_pandas(data_clean, h_tol=0.001, max_iter=200, tabu_parent_nodes=['died'])"
   ]
  },
  {
   "cell_type": "code",
   "execution_count": 280,
   "metadata": {},
   "outputs": [],
   "source": [
    "sm_copy = sm.copy()"
   ]
  },
  {
   "cell_type": "code",
   "execution_count": 285,
   "metadata": {},
   "outputs": [],
   "source": [
    "sm_copy.add_edge(\"weight\", \"died\", weight=1)"
   ]
  },
  {
   "cell_type": "code",
   "execution_count": 286,
   "metadata": {},
   "outputs": [],
   "source": [
    "sm_copy.remove_edges_below_threshold(0.55)"
   ]
  },
  {
   "cell_type": "code",
   "execution_count": 287,
   "metadata": {},
   "outputs": [
    {
     "data": {
      "image/png": "[encoded data removed]",
      "text/plain": [
       "<Figure size 1000x400 with 1 Axes>"
      ]
     },
     "metadata": {},
     "output_type": "display_data"
    }
   ],
   "source": [
    "# viz = plot_structure(\n",
    "#     sm,\n",
    "#     graph_attributes={\"scale\": \"0.5\"},\n",
    "#     all_node_attributes=NODE_STYLE.WEAK,\n",
    "#     all_edge_attributes=EDGE_STYLE.WEAK,\n",
    "#     prog='fdp',\n",
    "# )\n",
    "# Image(viz.draw(format='png'))\n",
    "plt.figure(figsize=(10, 4))\n",
    "# fig, ax = plt.subplots()\n",
    "nx.draw_circular(sm_copy, with_labels=True, node_size=150, font_size = 10)\n",
    "# fig.show()\n",
    "plt.show()"
   ]
  },
  {
   "cell_type": "code",
   "execution_count": null,
   "metadata": {},
   "outputs": [],
   "source": []
  }
 ],
 "metadata": {
  "kernelspec": {
   "display_name": "Python 3",
   "language": "python",
   "name": "python3"
  },
  "language_info": {
   "codemirror_mode": {
    "name": "ipython",
    "version": 3
   },
   "file_extension": ".py",
   "mimetype": "text/x-python",
   "name": "python",
   "nbconvert_exporter": "python",
   "pygments_lexer": "ipython3",
   "version": "3.7.1"
  }
 },
 "nbformat": 4,
 "nbformat_minor": 4
}
