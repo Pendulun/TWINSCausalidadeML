{
 "cells": [
  {
   "cell_type": "code",
   "execution_count": 1,
   "metadata": {},
   "outputs": [],
   "source": [
    "import pandas as pd\n",
    "import matplotlib.pyplot as plt\n",
    "%matplotlib inline\n",
    "import pathlib"
   ]
  },
  {
   "cell_type": "markdown",
   "metadata": {},
   "source": [
    "# Predição de mortalidade infantil baseado no dataset TWINS"
   ]
  },
  {
   "cell_type": "markdown",
   "metadata": {},
   "source": [
    "O dataset original pode ser encontrado em ../data/original. Ele foi tratado no notebook de número 1 nessa mesma pasta, produzindo o dataset tratado em ../data/treated/. Além disso, foram feitas visualizações e computadas estatísticas no notebook de número 2."
   ]
  },
  {
   "cell_type": "code",
   "execution_count": 2,
   "metadata": {},
   "outputs": [],
   "source": [
    "data_path = pathlib.Path(\"../data/treated/twins_data.csv\")\n",
    "data_df = pd.read_csv(data_path)"
   ]
  },
  {
   "cell_type": "markdown",
   "metadata": {},
   "source": [
    "## Tratamento dos dados para treino"
   ]
  },
  {
   "cell_type": "code",
   "execution_count": 3,
   "metadata": {},
   "outputs": [
    {
     "data": {
      "text/html": [
       "<div>\n",
       "<style scoped>\n",
       "    .dataframe tbody tr th:only-of-type {\n",
       "        vertical-align: middle;\n",
       "    }\n",
       "\n",
       "    .dataframe tbody tr th {\n",
       "        vertical-align: top;\n",
       "    }\n",
       "\n",
       "    .dataframe thead th {\n",
       "        text-align: right;\n",
       "    }\n",
       "</style>\n",
       "<table border=\"1\" class=\"dataframe\">\n",
       "  <thead>\n",
       "    <tr style=\"text-align: right;\">\n",
       "      <th></th>\n",
       "      <th>pldel</th>\n",
       "      <th>birattnd</th>\n",
       "      <th>brstate</th>\n",
       "      <th>stoccfipb</th>\n",
       "      <th>mager8</th>\n",
       "      <th>ormoth</th>\n",
       "      <th>mrace</th>\n",
       "      <th>meduc6</th>\n",
       "      <th>dmar</th>\n",
       "      <th>mplbir</th>\n",
       "      <th>...</th>\n",
       "      <th>dlivord_min</th>\n",
       "      <th>dtotord_min</th>\n",
       "      <th>brstate_reg</th>\n",
       "      <th>stoccfipb_reg</th>\n",
       "      <th>mplbir_reg</th>\n",
       "      <th>lighter</th>\n",
       "      <th>first</th>\n",
       "      <th>id</th>\n",
       "      <th>weight</th>\n",
       "      <th>died</th>\n",
       "    </tr>\n",
       "  </thead>\n",
       "  <tbody>\n",
       "    <tr>\n",
       "      <th>0</th>\n",
       "      <td>1.0</td>\n",
       "      <td>1.0</td>\n",
       "      <td>1.0</td>\n",
       "      <td>1.0</td>\n",
       "      <td>3.0</td>\n",
       "      <td>0.0</td>\n",
       "      <td>1.0</td>\n",
       "      <td>NaN</td>\n",
       "      <td>1.0</td>\n",
       "      <td>31.0</td>\n",
       "      <td>...</td>\n",
       "      <td>NaN</td>\n",
       "      <td>NaN</td>\n",
       "      <td>5.0</td>\n",
       "      <td>5.0</td>\n",
       "      <td>1.0</td>\n",
       "      <td>1.0</td>\n",
       "      <td>NaN</td>\n",
       "      <td>1.0</td>\n",
       "      <td>2268.0</td>\n",
       "      <td>0.0</td>\n",
       "    </tr>\n",
       "    <tr>\n",
       "      <th>1</th>\n",
       "      <td>1.0</td>\n",
       "      <td>1.0</td>\n",
       "      <td>1.0</td>\n",
       "      <td>1.0</td>\n",
       "      <td>3.0</td>\n",
       "      <td>0.0</td>\n",
       "      <td>1.0</td>\n",
       "      <td>NaN</td>\n",
       "      <td>1.0</td>\n",
       "      <td>31.0</td>\n",
       "      <td>...</td>\n",
       "      <td>NaN</td>\n",
       "      <td>NaN</td>\n",
       "      <td>5.0</td>\n",
       "      <td>5.0</td>\n",
       "      <td>1.0</td>\n",
       "      <td>0.0</td>\n",
       "      <td>NaN</td>\n",
       "      <td>0.0</td>\n",
       "      <td>2296.0</td>\n",
       "      <td>0.0</td>\n",
       "    </tr>\n",
       "    <tr>\n",
       "      <th>2</th>\n",
       "      <td>1.0</td>\n",
       "      <td>1.0</td>\n",
       "      <td>1.0</td>\n",
       "      <td>1.0</td>\n",
       "      <td>3.0</td>\n",
       "      <td>0.0</td>\n",
       "      <td>2.0</td>\n",
       "      <td>3.0</td>\n",
       "      <td>0.0</td>\n",
       "      <td>1.0</td>\n",
       "      <td>...</td>\n",
       "      <td>2.0</td>\n",
       "      <td>3.0</td>\n",
       "      <td>5.0</td>\n",
       "      <td>5.0</td>\n",
       "      <td>5.0</td>\n",
       "      <td>1.0</td>\n",
       "      <td>0.0</td>\n",
       "      <td>7.0</td>\n",
       "      <td>2610.0</td>\n",
       "      <td>0.0</td>\n",
       "    </tr>\n",
       "    <tr>\n",
       "      <th>3</th>\n",
       "      <td>1.0</td>\n",
       "      <td>1.0</td>\n",
       "      <td>1.0</td>\n",
       "      <td>1.0</td>\n",
       "      <td>3.0</td>\n",
       "      <td>0.0</td>\n",
       "      <td>2.0</td>\n",
       "      <td>3.0</td>\n",
       "      <td>0.0</td>\n",
       "      <td>1.0</td>\n",
       "      <td>...</td>\n",
       "      <td>2.0</td>\n",
       "      <td>3.0</td>\n",
       "      <td>5.0</td>\n",
       "      <td>5.0</td>\n",
       "      <td>5.0</td>\n",
       "      <td>0.0</td>\n",
       "      <td>1.0</td>\n",
       "      <td>6.0</td>\n",
       "      <td>2650.0</td>\n",
       "      <td>0.0</td>\n",
       "    </tr>\n",
       "    <tr>\n",
       "      <th>4</th>\n",
       "      <td>1.0</td>\n",
       "      <td>1.0</td>\n",
       "      <td>1.0</td>\n",
       "      <td>1.0</td>\n",
       "      <td>5.0</td>\n",
       "      <td>0.0</td>\n",
       "      <td>1.0</td>\n",
       "      <td>5.0</td>\n",
       "      <td>1.0</td>\n",
       "      <td>59.0</td>\n",
       "      <td>...</td>\n",
       "      <td>NaN</td>\n",
       "      <td>NaN</td>\n",
       "      <td>5.0</td>\n",
       "      <td>5.0</td>\n",
       "      <td>1.0</td>\n",
       "      <td>1.0</td>\n",
       "      <td>NaN</td>\n",
       "      <td>11.0</td>\n",
       "      <td>1985.0</td>\n",
       "      <td>0.0</td>\n",
       "    </tr>\n",
       "  </tbody>\n",
       "</table>\n",
       "<p>5 rows × 53 columns</p>\n",
       "</div>"
      ],
      "text/plain": [
       "   pldel  birattnd  brstate  stoccfipb  mager8  ormoth  mrace  meduc6  dmar  \\\n",
       "0    1.0       1.0      1.0        1.0     3.0     0.0    1.0     NaN   1.0   \n",
       "1    1.0       1.0      1.0        1.0     3.0     0.0    1.0     NaN   1.0   \n",
       "2    1.0       1.0      1.0        1.0     3.0     0.0    2.0     3.0   0.0   \n",
       "3    1.0       1.0      1.0        1.0     3.0     0.0    2.0     3.0   0.0   \n",
       "4    1.0       1.0      1.0        1.0     5.0     0.0    1.0     5.0   1.0   \n",
       "\n",
       "   mplbir  ...  dlivord_min  dtotord_min  brstate_reg  stoccfipb_reg  \\\n",
       "0    31.0  ...          NaN          NaN          5.0            5.0   \n",
       "1    31.0  ...          NaN          NaN          5.0            5.0   \n",
       "2     1.0  ...          2.0          3.0          5.0            5.0   \n",
       "3     1.0  ...          2.0          3.0          5.0            5.0   \n",
       "4    59.0  ...          NaN          NaN          5.0            5.0   \n",
       "\n",
       "   mplbir_reg  lighter  first    id  weight  died  \n",
       "0         1.0      1.0    NaN   1.0  2268.0   0.0  \n",
       "1         1.0      0.0    NaN   0.0  2296.0   0.0  \n",
       "2         5.0      1.0    0.0   7.0  2610.0   0.0  \n",
       "3         5.0      0.0    1.0   6.0  2650.0   0.0  \n",
       "4         1.0      1.0    NaN  11.0  1985.0   0.0  \n",
       "\n",
       "[5 rows x 53 columns]"
      ]
     },
     "execution_count": 3,
     "metadata": {},
     "output_type": "execute_result"
    }
   ],
   "source": [
    "data_df.head()"
   ]
  },
  {
   "cell_type": "markdown",
   "metadata": {},
   "source": [
    "Não precisamos da coluna 'id'."
   ]
  },
  {
   "cell_type": "code",
   "execution_count": 4,
   "metadata": {},
   "outputs": [],
   "source": [
    "data_df.drop('id', inplace=True, axis=1)"
   ]
  },
  {
   "cell_type": "code",
   "execution_count": 5,
   "metadata": {},
   "outputs": [
    {
     "name": "stdout",
     "output_type": "stream",
     "text": [
      "<class 'pandas.core.frame.DataFrame'>\n",
      "RangeIndex: 142690 entries, 0 to 142689\n",
      "Data columns (total 52 columns):\n",
      " #   Column         Non-Null Count   Dtype  \n",
      "---  ------         --------------   -----  \n",
      " 0   pldel          142642 non-null  float64\n",
      " 1   birattnd       142462 non-null  float64\n",
      " 2   brstate        142690 non-null  float64\n",
      " 3   stoccfipb      142690 non-null  float64\n",
      " 4   mager8         142690 non-null  float64\n",
      " 5   ormoth         138638 non-null  float64\n",
      " 6   mrace          142690 non-null  float64\n",
      " 7   meduc6         134012 non-null  float64\n",
      " 8   dmar           142690 non-null  float64\n",
      " 9   mplbir         142474 non-null  float64\n",
      " 10  mpre5          139436 non-null  float64\n",
      " 11  adequacy       136352 non-null  float64\n",
      " 12  orfath         119046 non-null  float64\n",
      " 13  frace          122170 non-null  float64\n",
      " 14  birmon         142690 non-null  float64\n",
      " 15  gestat10       142690 non-null  float64\n",
      " 16  csex           142690 non-null  float64\n",
      " 17  anemia         134210 non-null  float64\n",
      " 18  cardiac        134210 non-null  float64\n",
      " 19  lung           134210 non-null  float64\n",
      " 20  diabetes       134210 non-null  float64\n",
      " 21  herpes         121558 non-null  float64\n",
      " 22  hydra          128518 non-null  float64\n",
      " 23  hemo           128518 non-null  float64\n",
      " 24  chyper         134210 non-null  float64\n",
      " 25  phyper         134210 non-null  float64\n",
      " 26  eclamp         134210 non-null  float64\n",
      " 27  incervix       128518 non-null  float64\n",
      " 28  pre4000        128518 non-null  float64\n",
      " 29  preterm        128518 non-null  float64\n",
      " 30  renal          134210 non-null  float64\n",
      " 31  rh             132660 non-null  float64\n",
      " 32  uterine        127250 non-null  float64\n",
      " 33  othermr        134210 non-null  float64\n",
      " 34  tobacco        104182 non-null  float64\n",
      " 35  alcohol        106844 non-null  float64\n",
      " 36  cigar6         103258 non-null  float64\n",
      " 37  drink5         106052 non-null  float64\n",
      " 38  crace          142690 non-null  float64\n",
      " 39  data_year      142690 non-null  float64\n",
      " 40  nprevistq      137990 non-null  float64\n",
      " 41  dfageq         120456 non-null  float64\n",
      " 42  feduc6         113332 non-null  float64\n",
      " 43  dlivord_min    128242 non-null  float64\n",
      " 44  dtotord_min    128054 non-null  float64\n",
      " 45  brstate_reg    142690 non-null  float64\n",
      " 46  stoccfipb_reg  142690 non-null  float64\n",
      " 47  mplbir_reg     142474 non-null  float64\n",
      " 48  lighter        142690 non-null  float64\n",
      " 49  first          128242 non-null  float64\n",
      " 50  weight         142690 non-null  float64\n",
      " 51  died           142690 non-null  float64\n",
      "dtypes: float64(52)\n",
      "memory usage: 56.6 MB\n"
     ]
    }
   ],
   "source": [
    "data_df.info()"
   ]
  },
  {
   "cell_type": "markdown",
   "metadata": {},
   "source": [
    "Todas as colunas estão marcadas como float64, entretanto, a grande maioria é categórica. Alterar o seu tipo para 'category' deve diminuir o consumo de memória de 56.6MB. Vamos ver quantos valores diferentes cada coluna tem:"
   ]
  },
  {
   "cell_type": "code",
   "execution_count": 6,
   "metadata": {},
   "outputs": [],
   "source": [
    "values_per_col = dict()\n",
    "for col in data_df.columns:\n",
    "    values_per_col[col] = len(data_df[col].value_counts())"
   ]
  },
  {
   "cell_type": "code",
   "execution_count": 7,
   "metadata": {},
   "outputs": [
    {
     "data": {
      "text/plain": [
       "{'pldel': 5,\n",
       " 'birattnd': 5,\n",
       " 'brstate': 55,\n",
       " 'stoccfipb': 51,\n",
       " 'mager8': 8,\n",
       " 'ormoth': 6,\n",
       " 'mrace': 9,\n",
       " 'meduc6': 5,\n",
       " 'dmar': 2,\n",
       " 'mplbir': 58,\n",
       " 'mpre5': 4,\n",
       " 'adequacy': 3,\n",
       " 'orfath': 6,\n",
       " 'frace': 9,\n",
       " 'birmon': 12,\n",
       " 'gestat10': 10,\n",
       " 'csex': 2,\n",
       " 'anemia': 2,\n",
       " 'cardiac': 2,\n",
       " 'lung': 2,\n",
       " 'diabetes': 2,\n",
       " 'herpes': 2,\n",
       " 'hydra': 2,\n",
       " 'hemo': 2,\n",
       " 'chyper': 2,\n",
       " 'phyper': 2,\n",
       " 'eclamp': 2,\n",
       " 'incervix': 2,\n",
       " 'pre4000': 2,\n",
       " 'preterm': 2,\n",
       " 'renal': 2,\n",
       " 'rh': 2,\n",
       " 'uterine': 2,\n",
       " 'othermr': 2,\n",
       " 'tobacco': 2,\n",
       " 'alcohol': 2,\n",
       " 'cigar6': 6,\n",
       " 'drink5': 5,\n",
       " 'crace': 9,\n",
       " 'data_year': 3,\n",
       " 'nprevistq': 5,\n",
       " 'dfageq': 8,\n",
       " 'feduc6': 5,\n",
       " 'dlivord_min': 16,\n",
       " 'dtotord_min': 20,\n",
       " 'brstate_reg': 9,\n",
       " 'stoccfipb_reg': 9,\n",
       " 'mplbir_reg': 9,\n",
       " 'lighter': 2,\n",
       " 'first': 2,\n",
       " 'weight': 3236,\n",
       " 'died': 2}"
      ]
     },
     "execution_count": 7,
     "metadata": {},
     "output_type": "execute_result"
    }
   ],
   "source": [
    "values_per_col"
   ]
  },
  {
   "cell_type": "markdown",
   "metadata": {},
   "source": [
    "Algumas colunas são claramente categóricas. Vamos ver o que significa algumas dessas colunas."
   ]
  },
  {
   "cell_type": "code",
   "execution_count": 8,
   "metadata": {},
   "outputs": [],
   "source": [
    "cols_sig = {'adequacy': 'adequacy of care',\n",
    " 'alcohol': 'risk factor, alcohol use',\n",
    " 'anemia': 'risk factor, Anemia',\n",
    " 'birattnd': 'medical person attending birth',\n",
    " 'birmon': 'birth month Jan-Dec',\n",
    " 'bord_0': 'birth order of lighter twin',\n",
    " 'bord_1': 'birth order of heavier twin',\n",
    " 'brstate': 'state of residence NCHS',\n",
    " 'brstate_reg': 'US census region of brstate',\n",
    " 'cardiac': 'risk factor, Cardiac',\n",
    " 'chyper': 'risk factor, Hypertension, chronic',\n",
    " 'cigar6': 'num of cigarettes /day, quantiled',\n",
    " 'crace': 'race of child',\n",
    " 'csex': 'sex of child',\n",
    " 'data_year': 'year: 1989, 1990 or 1991',\n",
    " 'dfageq': 'octile age of father',\n",
    " 'diabetes': 'risk factor, Diabetes',\n",
    " 'dlivord_min': 'number of live births before twins',\n",
    " 'dmar': 'married',\n",
    " 'drink5': 'num of drinks /week, quantiled',\n",
    " 'dtotord_min': 'total number of births before twins',\n",
    " 'eclamp': 'risk factor, Eclampsia',\n",
    " 'feduc6': 'education category',\n",
    " 'frace': 'dad race',\n",
    " 'gestat10': 'gestation 10 categories',\n",
    " 'hemo': 'risk factor Hemoglobinopathy',\n",
    " 'herpes': 'risk factor, Herpes',\n",
    " 'hydra': 'risk factor Hvdramnios/Oliqohvdramnios',\n",
    " 'incervix': 'risk factor, Incompetent cervix',\n",
    " 'infant_id_0': 'infant id of lighter twin in original df',\n",
    " 'infant_id_1': 'infant id of heavier twin in original df',\n",
    " 'lung': 'risk factor, Lung',\n",
    " 'mager8': 'mom age',\n",
    " 'meduc6': 'mom education',\n",
    " 'mplbir': 'mom place of birth',\n",
    " 'mplbir_reg': 'US census region of mplbir',\n",
    " 'mpre5': 'trimester prenatal care begun, 4 is none',\n",
    " 'mrace': 'mom race',\n",
    " 'nprevistq': 'quintile number of prenatal visits',\n",
    " 'orfath': 'dad hispanic',\n",
    " 'ormoth': 'mom hispanic',\n",
    " 'othermr': 'risk factor, Other Medical Risk Factors',\n",
    " 'phyper': 'risk factor, Hypertension, preqnancy-associated',\n",
    " 'pldel': 'place of delivery',\n",
    " 'pre4000': 'risk factor, Previous infant 4000+ grams',\n",
    " 'preterm': 'risk factor, Previos pre-term or small',\n",
    " 'renal': 'risk factor, Renal disease',\n",
    " 'rh': 'risk factor, RH sensitization',\n",
    " 'stoccfipb': 'state of occurence FIPB',\n",
    " 'stoccfipb_reg': 'US census region of stoccfipb',\n",
    " 'tobacco': 'risk factor, tobacco use',\n",
    " 'uterine': 'risk factor, Uterine bleeding'}"
   ]
  },
  {
   "cell_type": "code",
   "execution_count": 9,
   "metadata": {},
   "outputs": [
    {
     "name": "stdout",
     "output_type": "stream",
     "text": [
      "brstate: state of residence NCHS\n",
      "stoccfipb: state of occurence FIPB\n",
      "mager8: mom age\n",
      "mrace: mom race\n",
      "mplbir: mom place of birth\n",
      "frace: dad race\n",
      "birmon: birth month Jan-Dec\n",
      "gestat10: gestation 10 categories\n",
      "crace: race of child\n",
      "dfageq: octile age of father\n",
      "dlivord_min: number of live births before twins\n",
      "dtotord_min: total number of births before twins\n",
      "brstate_reg: US census region of brstate\n",
      "stoccfipb_reg: US census region of stoccfipb\n",
      "mplbir_reg: US census region of mplbir\n",
      "weight: \n"
     ]
    }
   ],
   "source": [
    "target_cols = [col for col, value in list(values_per_col.items()) if value > 6]\n",
    "for col in target_cols:\n",
    "    desc = cols_sig.get(col, '')\n",
    "    print(f\"{col}: {desc}\")"
   ]
  },
  {
   "cell_type": "markdown",
   "metadata": {},
   "source": [
    "Fica claro que o weight não é categórico. Poderia considerar a idade da mãe como não categórico, entretanto, vou dizer que é. "
   ]
  },
  {
   "cell_type": "code",
   "execution_count": 10,
   "metadata": {},
   "outputs": [],
   "source": [
    "def transform_to_categorical(df, cols):\n",
    "    df = df.copy()\n",
    "    for col in cols:\n",
    "        df[col] = df[col].astype('category')\n",
    "    \n",
    "    return df\n",
    "\n",
    "NON_CAT_COL = ['weight']\n",
    "CAT_COLS = data_df.columns.difference(NON_CAT_COL)\n",
    "data_df = transform_to_categorical(data_df, CAT_COLS)"
   ]
  },
  {
   "cell_type": "code",
   "execution_count": 11,
   "metadata": {},
   "outputs": [
    {
     "name": "stdout",
     "output_type": "stream",
     "text": [
      "<class 'pandas.core.frame.DataFrame'>\n",
      "RangeIndex: 142690 entries, 0 to 142689\n",
      "Data columns (total 52 columns):\n",
      " #   Column         Non-Null Count   Dtype   \n",
      "---  ------         --------------   -----   \n",
      " 0   pldel          142642 non-null  category\n",
      " 1   birattnd       142462 non-null  category\n",
      " 2   brstate        142690 non-null  category\n",
      " 3   stoccfipb      142690 non-null  category\n",
      " 4   mager8         142690 non-null  category\n",
      " 5   ormoth         138638 non-null  category\n",
      " 6   mrace          142690 non-null  category\n",
      " 7   meduc6         134012 non-null  category\n",
      " 8   dmar           142690 non-null  category\n",
      " 9   mplbir         142474 non-null  category\n",
      " 10  mpre5          139436 non-null  category\n",
      " 11  adequacy       136352 non-null  category\n",
      " 12  orfath         119046 non-null  category\n",
      " 13  frace          122170 non-null  category\n",
      " 14  birmon         142690 non-null  category\n",
      " 15  gestat10       142690 non-null  category\n",
      " 16  csex           142690 non-null  category\n",
      " 17  anemia         134210 non-null  category\n",
      " 18  cardiac        134210 non-null  category\n",
      " 19  lung           134210 non-null  category\n",
      " 20  diabetes       134210 non-null  category\n",
      " 21  herpes         121558 non-null  category\n",
      " 22  hydra          128518 non-null  category\n",
      " 23  hemo           128518 non-null  category\n",
      " 24  chyper         134210 non-null  category\n",
      " 25  phyper         134210 non-null  category\n",
      " 26  eclamp         134210 non-null  category\n",
      " 27  incervix       128518 non-null  category\n",
      " 28  pre4000        128518 non-null  category\n",
      " 29  preterm        128518 non-null  category\n",
      " 30  renal          134210 non-null  category\n",
      " 31  rh             132660 non-null  category\n",
      " 32  uterine        127250 non-null  category\n",
      " 33  othermr        134210 non-null  category\n",
      " 34  tobacco        104182 non-null  category\n",
      " 35  alcohol        106844 non-null  category\n",
      " 36  cigar6         103258 non-null  category\n",
      " 37  drink5         106052 non-null  category\n",
      " 38  crace          142690 non-null  category\n",
      " 39  data_year      142690 non-null  category\n",
      " 40  nprevistq      137990 non-null  category\n",
      " 41  dfageq         120456 non-null  category\n",
      " 42  feduc6         113332 non-null  category\n",
      " 43  dlivord_min    128242 non-null  category\n",
      " 44  dtotord_min    128054 non-null  category\n",
      " 45  brstate_reg    142690 non-null  category\n",
      " 46  stoccfipb_reg  142690 non-null  category\n",
      " 47  mplbir_reg     142474 non-null  category\n",
      " 48  lighter        142690 non-null  category\n",
      " 49  first          128242 non-null  category\n",
      " 50  weight         142690 non-null  float64 \n",
      " 51  died           142690 non-null  category\n",
      "dtypes: category(51), float64(1)\n",
      "memory usage: 8.0 MB\n"
     ]
    }
   ],
   "source": [
    "data_df.info()"
   ]
  },
  {
   "cell_type": "markdown",
   "metadata": {},
   "source": [
    "Agora ele só ocupa 8 MB."
   ]
  },
  {
   "cell_type": "markdown",
   "metadata": {},
   "source": [
    "## Lidando com dados faltando"
   ]
  },
  {
   "cell_type": "markdown",
   "metadata": {},
   "source": [
    "Vamos ver quais são as colunas com dados faltando"
   ]
  },
  {
   "cell_type": "code",
   "execution_count": 12,
   "metadata": {},
   "outputs": [
    {
     "data": {
      "text/plain": [
       "pldel               48\n",
       "birattnd           228\n",
       "brstate              0\n",
       "stoccfipb            0\n",
       "mager8               0\n",
       "ormoth            4052\n",
       "mrace                0\n",
       "meduc6            8678\n",
       "dmar                 0\n",
       "mplbir             216\n",
       "mpre5             3254\n",
       "adequacy          6338\n",
       "orfath           23644\n",
       "frace            20520\n",
       "birmon               0\n",
       "gestat10             0\n",
       "csex                 0\n",
       "anemia            8480\n",
       "cardiac           8480\n",
       "lung              8480\n",
       "diabetes          8480\n",
       "herpes           21132\n",
       "hydra            14172\n",
       "hemo             14172\n",
       "chyper            8480\n",
       "phyper            8480\n",
       "eclamp            8480\n",
       "incervix         14172\n",
       "pre4000          14172\n",
       "preterm          14172\n",
       "renal             8480\n",
       "rh               10030\n",
       "uterine          15440\n",
       "othermr           8480\n",
       "tobacco          38508\n",
       "alcohol          35846\n",
       "cigar6           39432\n",
       "drink5           36638\n",
       "crace                0\n",
       "data_year            0\n",
       "nprevistq         4700\n",
       "dfageq           22234\n",
       "feduc6           29358\n",
       "dlivord_min      14448\n",
       "dtotord_min      14636\n",
       "brstate_reg          0\n",
       "stoccfipb_reg        0\n",
       "mplbir_reg         216\n",
       "lighter              0\n",
       "first            14448\n",
       "weight               0\n",
       "died                 0\n",
       "dtype: int64"
      ]
     },
     "execution_count": 12,
     "metadata": {},
     "output_type": "execute_result"
    }
   ],
   "source": [
    "data_df.isna().sum()"
   ]
  },
  {
   "cell_type": "markdown",
   "metadata": {},
   "source": [
    "Antes de retirar os nulos:"
   ]
  },
  {
   "cell_type": "code",
   "execution_count": 13,
   "metadata": {},
   "outputs": [
    {
     "data": {
      "text/plain": [
       "0.0    137566\n",
       "1.0      5124\n",
       "Name: died, dtype: int64"
      ]
     },
     "execution_count": 13,
     "metadata": {},
     "output_type": "execute_result"
    }
   ],
   "source": [
    "data_df['died'].value_counts()"
   ]
  },
  {
   "cell_type": "code",
   "execution_count": 14,
   "metadata": {},
   "outputs": [
    {
     "data": {
      "text/plain": [
       "0.03591001471721915"
      ]
     },
     "execution_count": 14,
     "metadata": {},
     "output_type": "execute_result"
    }
   ],
   "source": [
    "5124/len(data_df)"
   ]
  },
  {
   "cell_type": "markdown",
   "metadata": {},
   "source": [
    "Cerca de 3.5% dos dados representam os que morreram."
   ]
  },
  {
   "cell_type": "markdown",
   "metadata": {},
   "source": [
    "Vamos ver quantas entradas sobram se eu remover todas as linhas com um valor faltando"
   ]
  },
  {
   "cell_type": "code",
   "execution_count": 15,
   "metadata": {},
   "outputs": [
    {
     "data": {
      "text/plain": [
       "64240"
      ]
     },
     "execution_count": 15,
     "metadata": {},
     "output_type": "execute_result"
    }
   ],
   "source": [
    "data_without_missing_df = data_df.dropna()\n",
    "len(data_without_missing_df)"
   ]
  },
  {
   "cell_type": "code",
   "execution_count": 16,
   "metadata": {},
   "outputs": [
    {
     "data": {
      "text/plain": [
       "0.0    62368\n",
       "1.0     1872\n",
       "Name: died, dtype: int64"
      ]
     },
     "execution_count": 16,
     "metadata": {},
     "output_type": "execute_result"
    }
   ],
   "source": [
    "data_without_missing_df['died'].value_counts()"
   ]
  },
  {
   "cell_type": "code",
   "execution_count": 17,
   "metadata": {},
   "outputs": [
    {
     "data": {
      "text/plain": [
       "0.029140722291407222"
      ]
     },
     "execution_count": 17,
     "metadata": {},
     "output_type": "execute_result"
    }
   ],
   "source": [
    "1872/64240"
   ]
  },
  {
   "cell_type": "markdown",
   "metadata": {},
   "source": [
    "A proporção de dados dos que representam morte caiu para 2.9%. Vamos ver se conseguimos melhorar esse número."
   ]
  },
  {
   "cell_type": "code",
   "execution_count": 18,
   "metadata": {},
   "outputs": [
    {
     "name": "stdout",
     "output_type": "stream",
     "text": [
      "pldel: place of delivery; 48\n",
      "mplbir: mom place of birth; 216\n",
      "mplbir_reg: US census region of mplbir; 216\n",
      "birattnd: medical person attending birth; 228\n",
      "mpre5: trimester prenatal care begun, 4 is none; 3254\n",
      "ormoth: mom hispanic; 4052\n",
      "nprevistq: quintile number of prenatal visits; 4700\n",
      "adequacy: adequacy of care; 6338\n",
      "othermr: risk factor, Other Medical Risk Factors; 8480\n",
      "renal: risk factor, Renal disease; 8480\n",
      "phyper: risk factor, Hypertension, preqnancy-associated; 8480\n",
      "chyper: risk factor, Hypertension, chronic; 8480\n",
      "eclamp: risk factor, Eclampsia; 8480\n",
      "lung: risk factor, Lung; 8480\n",
      "cardiac: risk factor, Cardiac; 8480\n",
      "anemia: risk factor, Anemia; 8480\n",
      "diabetes: risk factor, Diabetes; 8480\n",
      "meduc6: mom education; 8678\n",
      "rh: risk factor, RH sensitization; 10030\n",
      "hydra: risk factor Hvdramnios/Oliqohvdramnios; 14172\n",
      "hemo: risk factor Hemoglobinopathy; 14172\n",
      "incervix: risk factor, Incompetent cervix; 14172\n",
      "pre4000: risk factor, Previous infant 4000+ grams; 14172\n",
      "preterm: risk factor, Previos pre-term or small; 14172\n",
      "first: ; 14448\n",
      "dlivord_min: number of live births before twins; 14448\n",
      "dtotord_min: total number of births before twins; 14636\n",
      "uterine: risk factor, Uterine bleeding; 15440\n",
      "frace: dad race; 20520\n",
      "herpes: risk factor, Herpes; 21132\n",
      "dfageq: octile age of father; 22234\n",
      "orfath: dad hispanic; 23644\n",
      "feduc6: education category; 29358\n",
      "alcohol: risk factor, alcohol use; 35846\n",
      "drink5: num of drinks /week, quantiled; 36638\n",
      "tobacco: risk factor, tobacco use; 38508\n",
      "cigar6: num of cigarettes /day, quantiled; 39432\n"
     ]
    }
   ],
   "source": [
    "na_count = data_df.isna().sum()\n",
    "cols_with_nas = na_count.loc[na_count>0]\n",
    "cols_with_nas.sort_values(ascending=True, inplace=True)\n",
    "for col in cols_with_nas.index.to_list():\n",
    "    desc = cols_sig.get(col, '')\n",
    "    print(f\"{col}: {desc}; {cols_with_nas[col]}\")"
   ]
  },
  {
   "cell_type": "markdown",
   "metadata": {},
   "source": [
    "Como todas essas feateures são categóricas, não posso usar mediana ou média para completar os dados, teria que ser ou 'o mais comum' ou alguma atribuição aleatória que siga uma distribuição relativa aos dados presentes.\n",
    "\n",
    "Como existem cerca de 143 mil entradas, vou remover as colunas que possuem mais de 20 mil dados faltantes e completar as outras seguindo a lógica do \"mais comum\".\n",
    "\n",
    "Além disso, como são 37 colunas com dados faltando mas apenas 9 com mais de 20 mil dados faltando, vou remover todas as linhas que possuírem, de antemão, mais do que 5 colunas com dados faltando."
   ]
  },
  {
   "cell_type": "code",
   "execution_count": 19,
   "metadata": {},
   "outputs": [],
   "source": [
    "data_df.dropna(thresh=len(data_df.columns)-5, inplace=True)"
   ]
  },
  {
   "cell_type": "code",
   "execution_count": 20,
   "metadata": {},
   "outputs": [
    {
     "data": {
      "text/plain": [
       "119794"
      ]
     },
     "execution_count": 20,
     "metadata": {},
     "output_type": "execute_result"
    }
   ],
   "source": [
    "len(data_df)"
   ]
  },
  {
   "cell_type": "code",
   "execution_count": 21,
   "metadata": {},
   "outputs": [],
   "source": [
    "removed_cols = ['frace', 'herpes', 'dfageq', 'orfath', 'feduc6', 'alcohol', 'drink5', 'tobacco', 'cigar6']\n",
    "data_df.drop(removed_cols, axis=1, inplace=True)"
   ]
  },
  {
   "cell_type": "code",
   "execution_count": 22,
   "metadata": {},
   "outputs": [],
   "source": [
    "missing_count = data_df.isna().sum()\n",
    "missing_cols_names = missing_count.loc[missing_count > 0].index.to_list()\n",
    "most_common_per_col = dict()\n",
    "for col in missing_cols_names:\n",
    "    most_common_per_col[col] = data_df[col].value_counts().idxmax()"
   ]
  },
  {
   "cell_type": "code",
   "execution_count": 23,
   "metadata": {},
   "outputs": [
    {
     "data": {
      "text/plain": [
       "{'pldel': 1.0,\n",
       " 'birattnd': 1.0,\n",
       " 'ormoth': 0.0,\n",
       " 'meduc6': 3.0,\n",
       " 'mplbir': 5.0,\n",
       " 'mpre5': 1.0,\n",
       " 'adequacy': 1.0,\n",
       " 'rh': 0.0,\n",
       " 'uterine': 0.0,\n",
       " 'nprevistq': 1.0,\n",
       " 'dlivord_min': 1.0,\n",
       " 'dtotord_min': 1.0,\n",
       " 'mplbir_reg': 2.0,\n",
       " 'first': 0.0}"
      ]
     },
     "execution_count": 23,
     "metadata": {},
     "output_type": "execute_result"
    }
   ],
   "source": [
    "most_common_per_col"
   ]
  },
  {
   "cell_type": "code",
   "execution_count": 24,
   "metadata": {},
   "outputs": [
    {
     "name": "stderr",
     "output_type": "stream",
     "text": [
      "<ipython-input-24-b904f42446cb>:1: FutureWarning: In a future version, `df.iloc[:, i] = newvals` will attempt to set the values inplace instead of always setting a new array. To retain the old behavior, use either `df[df.columns[i]] = newvals` or, if columns are non-unique, `df.isetitem(i, newvals)`\n",
      "  data_df.fillna(most_common_per_col, inplace=True)\n"
     ]
    }
   ],
   "source": [
    "data_df.fillna(most_common_per_col, inplace=True)"
   ]
  },
  {
   "cell_type": "code",
   "execution_count": 25,
   "metadata": {},
   "outputs": [
    {
     "data": {
      "text/plain": [
       "0.0    115800\n",
       "1.0      3994\n",
       "Name: died, dtype: int64"
      ]
     },
     "execution_count": 25,
     "metadata": {},
     "output_type": "execute_result"
    }
   ],
   "source": [
    "data_df['died'].value_counts()"
   ]
  },
  {
   "cell_type": "code",
   "execution_count": 26,
   "metadata": {},
   "outputs": [
    {
     "data": {
      "text/plain": [
       "0.03334056797502379"
      ]
     },
     "execution_count": 26,
     "metadata": {},
     "output_type": "execute_result"
    }
   ],
   "source": [
    "3994/119794"
   ]
  },
  {
   "cell_type": "markdown",
   "metadata": {},
   "source": [
    "# Treinando os modelos"
   ]
  },
  {
   "cell_type": "markdown",
   "metadata": {},
   "source": [
    "## Dividindo os dados em treino e teste"
   ]
  },
  {
   "cell_type": "code",
   "execution_count": 27,
   "metadata": {},
   "outputs": [
    {
     "ename": "FileNotFoundError",
     "evalue": "Could not find module 'C:\\Users\\User\\anaconda3\\lib\\site-packages\\scipy\\.libs\\libbanded5x.7ZTMF7UCVXMJAL7JD7SFWI6Q7ONIHCK3.gfortran-win_amd64.dll' (or one of its dependencies). Try using the full path with constructor syntax.",
     "output_type": "error",
     "traceback": [
      "\u001b[1;31m---------------------------------------------------------------------------\u001b[0m",
      "\u001b[1;31mFileNotFoundError\u001b[0m                         Traceback (most recent call last)",
      "Cell \u001b[1;32mIn [27], line 1\u001b[0m\n\u001b[1;32m----> 1\u001b[0m \u001b[38;5;28;01mfrom\u001b[39;00m \u001b[38;5;21;01msklearn\u001b[39;00m\u001b[38;5;21;01m.\u001b[39;00m\u001b[38;5;21;01mmodel_selection\u001b[39;00m \u001b[38;5;28;01mimport\u001b[39;00m train_test_split\n",
      "File \u001b[1;32m~\\anaconda3\\lib\\site-packages\\sklearn\\__init__.py:82\u001b[0m\n\u001b[0;32m     80\u001b[0m \u001b[38;5;28;01mfrom\u001b[39;00m \u001b[38;5;21;01m.\u001b[39;00m \u001b[38;5;28;01mimport\u001b[39;00m _distributor_init  \u001b[38;5;66;03m# noqa: F401\u001b[39;00m\n\u001b[0;32m     81\u001b[0m \u001b[38;5;28;01mfrom\u001b[39;00m \u001b[38;5;21;01m.\u001b[39;00m \u001b[38;5;28;01mimport\u001b[39;00m __check_build  \u001b[38;5;66;03m# noqa: F401\u001b[39;00m\n\u001b[1;32m---> 82\u001b[0m \u001b[38;5;28;01mfrom\u001b[39;00m \u001b[38;5;21;01m.\u001b[39;00m\u001b[38;5;21;01mbase\u001b[39;00m \u001b[38;5;28;01mimport\u001b[39;00m clone\n\u001b[0;32m     83\u001b[0m \u001b[38;5;28;01mfrom\u001b[39;00m \u001b[38;5;21;01m.\u001b[39;00m\u001b[38;5;21;01mutils\u001b[39;00m\u001b[38;5;21;01m.\u001b[39;00m\u001b[38;5;21;01m_show_versions\u001b[39;00m \u001b[38;5;28;01mimport\u001b[39;00m show_versions\n\u001b[0;32m     85\u001b[0m __all__ \u001b[38;5;241m=\u001b[39m [\n\u001b[0;32m     86\u001b[0m     \u001b[38;5;124m\"\u001b[39m\u001b[38;5;124mcalibration\u001b[39m\u001b[38;5;124m\"\u001b[39m,\n\u001b[0;32m     87\u001b[0m     \u001b[38;5;124m\"\u001b[39m\u001b[38;5;124mcluster\u001b[39m\u001b[38;5;124m\"\u001b[39m,\n\u001b[1;32m   (...)\u001b[0m\n\u001b[0;32m    128\u001b[0m     \u001b[38;5;124m\"\u001b[39m\u001b[38;5;124mshow_versions\u001b[39m\u001b[38;5;124m\"\u001b[39m,\n\u001b[0;32m    129\u001b[0m ]\n",
      "File \u001b[1;32m~\\anaconda3\\lib\\site-packages\\sklearn\\base.py:17\u001b[0m\n\u001b[0;32m     15\u001b[0m \u001b[38;5;28;01mfrom\u001b[39;00m \u001b[38;5;21;01m.\u001b[39;00m \u001b[38;5;28;01mimport\u001b[39;00m __version__\n\u001b[0;32m     16\u001b[0m \u001b[38;5;28;01mfrom\u001b[39;00m \u001b[38;5;21;01m.\u001b[39;00m\u001b[38;5;21;01m_config\u001b[39;00m \u001b[38;5;28;01mimport\u001b[39;00m get_config\n\u001b[1;32m---> 17\u001b[0m \u001b[38;5;28;01mfrom\u001b[39;00m \u001b[38;5;21;01m.\u001b[39;00m\u001b[38;5;21;01mutils\u001b[39;00m \u001b[38;5;28;01mimport\u001b[39;00m _IS_32BIT\n\u001b[0;32m     18\u001b[0m \u001b[38;5;28;01mfrom\u001b[39;00m \u001b[38;5;21;01m.\u001b[39;00m\u001b[38;5;21;01mutils\u001b[39;00m\u001b[38;5;21;01m.\u001b[39;00m\u001b[38;5;21;01m_tags\u001b[39;00m \u001b[38;5;28;01mimport\u001b[39;00m (\n\u001b[0;32m     19\u001b[0m     _DEFAULT_TAGS,\n\u001b[0;32m     20\u001b[0m )\n\u001b[0;32m     21\u001b[0m \u001b[38;5;28;01mfrom\u001b[39;00m \u001b[38;5;21;01m.\u001b[39;00m\u001b[38;5;21;01mutils\u001b[39;00m\u001b[38;5;21;01m.\u001b[39;00m\u001b[38;5;21;01mvalidation\u001b[39;00m \u001b[38;5;28;01mimport\u001b[39;00m check_X_y\n",
      "File \u001b[1;32m~\\anaconda3\\lib\\site-packages\\sklearn\\utils\\__init__.py:22\u001b[0m\n\u001b[0;32m     20\u001b[0m \u001b[38;5;28;01mimport\u001b[39;00m \u001b[38;5;21;01mwarnings\u001b[39;00m\n\u001b[0;32m     21\u001b[0m \u001b[38;5;28;01mimport\u001b[39;00m \u001b[38;5;21;01mnumpy\u001b[39;00m \u001b[38;5;28;01mas\u001b[39;00m \u001b[38;5;21;01mnp\u001b[39;00m\n\u001b[1;32m---> 22\u001b[0m \u001b[38;5;28;01mfrom\u001b[39;00m \u001b[38;5;21;01mscipy\u001b[39;00m\u001b[38;5;21;01m.\u001b[39;00m\u001b[38;5;21;01msparse\u001b[39;00m \u001b[38;5;28;01mimport\u001b[39;00m issparse\n\u001b[0;32m     24\u001b[0m \u001b[38;5;28;01mfrom\u001b[39;00m \u001b[38;5;21;01m.\u001b[39;00m\u001b[38;5;21;01mmurmurhash\u001b[39;00m \u001b[38;5;28;01mimport\u001b[39;00m murmurhash3_32\n\u001b[0;32m     25\u001b[0m \u001b[38;5;28;01mfrom\u001b[39;00m \u001b[38;5;21;01m.\u001b[39;00m\u001b[38;5;21;01mclass_weight\u001b[39;00m \u001b[38;5;28;01mimport\u001b[39;00m compute_class_weight, compute_sample_weight\n",
      "File \u001b[1;32m~\\anaconda3\\lib\\site-packages\\scipy\\__init__.py:144\u001b[0m\n\u001b[0;32m    141\u001b[0m \u001b[38;5;28;01mfrom\u001b[39;00m \u001b[38;5;21;01mscipy\u001b[39;00m\u001b[38;5;21;01m.\u001b[39;00m\u001b[38;5;21;01mversion\u001b[39;00m \u001b[38;5;28;01mimport\u001b[39;00m version \u001b[38;5;28;01mas\u001b[39;00m __version__\n\u001b[0;32m    143\u001b[0m \u001b[38;5;66;03m# Allow distributors to run custom init code\u001b[39;00m\n\u001b[1;32m--> 144\u001b[0m \u001b[38;5;28;01mfrom\u001b[39;00m \u001b[38;5;21;01m.\u001b[39;00m \u001b[38;5;28;01mimport\u001b[39;00m _distributor_init\n\u001b[0;32m    145\u001b[0m \u001b[38;5;28;01mdel\u001b[39;00m _distributor_init\n\u001b[0;32m    147\u001b[0m \u001b[38;5;28;01mfrom\u001b[39;00m \u001b[38;5;21;01mscipy\u001b[39;00m\u001b[38;5;21;01m.\u001b[39;00m\u001b[38;5;21;01m_lib\u001b[39;00m \u001b[38;5;28;01mimport\u001b[39;00m _pep440\n",
      "File \u001b[1;32m~\\anaconda3\\lib\\site-packages\\scipy\\_distributor_init.py:59\u001b[0m\n\u001b[0;32m     57\u001b[0m     os\u001b[38;5;241m.\u001b[39mchdir(libs_path)\n\u001b[0;32m     58\u001b[0m     \u001b[38;5;28;01mfor\u001b[39;00m filename \u001b[38;5;129;01min\u001b[39;00m glob\u001b[38;5;241m.\u001b[39mglob(os\u001b[38;5;241m.\u001b[39mpath\u001b[38;5;241m.\u001b[39mjoin(libs_path, \u001b[38;5;124m'\u001b[39m\u001b[38;5;124m*dll\u001b[39m\u001b[38;5;124m'\u001b[39m)):\n\u001b[1;32m---> 59\u001b[0m         \u001b[43mWinDLL\u001b[49m\u001b[43m(\u001b[49m\u001b[43mos\u001b[49m\u001b[38;5;241;43m.\u001b[39;49m\u001b[43mpath\u001b[49m\u001b[38;5;241;43m.\u001b[39;49m\u001b[43mabspath\u001b[49m\u001b[43m(\u001b[49m\u001b[43mfilename\u001b[49m\u001b[43m)\u001b[49m\u001b[43m)\u001b[49m\n\u001b[0;32m     60\u001b[0m \u001b[38;5;28;01mfinally\u001b[39;00m:\n\u001b[0;32m     61\u001b[0m     os\u001b[38;5;241m.\u001b[39mchdir(owd)\n",
      "File \u001b[1;32m~\\anaconda3\\lib\\ctypes\\__init__.py:373\u001b[0m, in \u001b[0;36mCDLL.__init__\u001b[1;34m(self, name, mode, handle, use_errno, use_last_error, winmode)\u001b[0m\n\u001b[0;32m    370\u001b[0m \u001b[38;5;28mself\u001b[39m\u001b[38;5;241m.\u001b[39m_FuncPtr \u001b[38;5;241m=\u001b[39m _FuncPtr\n\u001b[0;32m    372\u001b[0m \u001b[38;5;28;01mif\u001b[39;00m handle \u001b[38;5;129;01mis\u001b[39;00m \u001b[38;5;28;01mNone\u001b[39;00m:\n\u001b[1;32m--> 373\u001b[0m     \u001b[38;5;28mself\u001b[39m\u001b[38;5;241m.\u001b[39m_handle \u001b[38;5;241m=\u001b[39m \u001b[43m_dlopen\u001b[49m\u001b[43m(\u001b[49m\u001b[38;5;28;43mself\u001b[39;49m\u001b[38;5;241;43m.\u001b[39;49m\u001b[43m_name\u001b[49m\u001b[43m,\u001b[49m\u001b[43m \u001b[49m\u001b[43mmode\u001b[49m\u001b[43m)\u001b[49m\n\u001b[0;32m    374\u001b[0m \u001b[38;5;28;01melse\u001b[39;00m:\n\u001b[0;32m    375\u001b[0m     \u001b[38;5;28mself\u001b[39m\u001b[38;5;241m.\u001b[39m_handle \u001b[38;5;241m=\u001b[39m handle\n",
      "\u001b[1;31mFileNotFoundError\u001b[0m: Could not find module 'C:\\Users\\User\\anaconda3\\lib\\site-packages\\scipy\\.libs\\libbanded5x.7ZTMF7UCVXMJAL7JD7SFWI6Q7ONIHCK3.gfortran-win_amd64.dll' (or one of its dependencies). Try using the full path with constructor syntax."
     ]
    }
   ],
   "source": [
    "from sklearn.model_selection import train_test_split"
   ]
  },
  {
   "cell_type": "code",
   "execution_count": null,
   "metadata": {},
   "outputs": [],
   "source": [
    "y = data_df['died']\n",
    "X = data_df.drop('died', axis=1)"
   ]
  },
  {
   "cell_type": "code",
   "execution_count": null,
   "metadata": {},
   "outputs": [],
   "source": [
    "X_train, X_test, y_train, y_test = train_test_split(X, y, test_size=0.25, random_state=42)"
   ]
  },
  {
   "cell_type": "markdown",
   "metadata": {},
   "source": [
    "## Normalizando a coluna não categórica"
   ]
  },
  {
   "cell_type": "code",
   "execution_count": 163,
   "metadata": {},
   "outputs": [],
   "source": [
    "from sklearn.preprocessing import MinMaxScaler"
   ]
  },
  {
   "cell_type": "code",
   "execution_count": 164,
   "metadata": {},
   "outputs": [],
   "source": [
    "def normalize(df, cols, scaler, already_fitted_scaler):\n",
    "    numerical_only_data = df[cols]\n",
    "    if not already_fitted_scaler:\n",
    "        scaler.fit(numerical_only_data.values)\n",
    "    \n",
    "    numerical_scaled = scaler.transform(numerical_only_data.values)\n",
    "    df.loc[:, cols] = numerical_scaled\n",
    "    return df"
   ]
  },
  {
   "cell_type": "markdown",
   "metadata": {},
   "source": [
    "Vou realizar o fit do Scaler com base nos dados de treino e aplica-lo também aos dados de teste."
   ]
  },
  {
   "cell_type": "code",
   "execution_count": 165,
   "metadata": {},
   "outputs": [
    {
     "name": "stderr",
     "output_type": "stream",
     "text": [
      "C:\\Users\\User\\anaconda3\\lib\\site-packages\\pandas\\core\\indexing.py:1736: SettingWithCopyWarning: \n",
      "A value is trying to be set on a copy of a slice from a DataFrame.\n",
      "Try using .loc[row_indexer,col_indexer] = value instead\n",
      "\n",
      "See the caveats in the documentation: https://pandas.pydata.org/pandas-docs/stable/user_guide/indexing.html#returning-a-view-versus-a-copy\n",
      "  isetter(loc, value[:, i].tolist())\n",
      "C:\\Users\\User\\anaconda3\\lib\\site-packages\\pandas\\core\\indexing.py:1736: SettingWithCopyWarning: \n",
      "A value is trying to be set on a copy of a slice from a DataFrame.\n",
      "Try using .loc[row_indexer,col_indexer] = value instead\n",
      "\n",
      "See the caveats in the documentation: https://pandas.pydata.org/pandas-docs/stable/user_guide/indexing.html#returning-a-view-versus-a-copy\n",
      "  isetter(loc, value[:, i].tolist())\n"
     ]
    }
   ],
   "source": [
    "scaler = MinMaxScaler()\n",
    "NUM_COL = ['weight']\n",
    "already_fitted_scaler = False\n",
    "X_train = normalize(X_train, NUM_COL, scaler, already_fitted_scaler)\n",
    "\n",
    "already_fitted_scaler = True\n",
    "X_test = normalize(X_test, NUM_COL, scaler, already_fitted_scaler)"
   ]
  },
  {
   "cell_type": "code",
   "execution_count": 166,
   "metadata": {},
   "outputs": [
    {
     "data": {
      "text/plain": [
       "count    89845.000000\n",
       "mean         0.332855\n",
       "std          0.098904\n",
       "min          0.000000\n",
       "25%          0.280219\n",
       "50%          0.344838\n",
       "75%          0.399574\n",
       "max          1.000000\n",
       "Name: weight, dtype: float64"
      ]
     },
     "execution_count": 166,
     "metadata": {},
     "output_type": "execute_result"
    }
   ],
   "source": [
    "X_train['weight'].describe()"
   ]
  },
  {
   "cell_type": "code",
   "execution_count": 167,
   "metadata": {},
   "outputs": [
    {
     "data": {
      "text/plain": [
       "count    29949.000000\n",
       "mean         0.332982\n",
       "std          0.098308\n",
       "min          0.000608\n",
       "25%          0.280219\n",
       "50%          0.344838\n",
       "75%          0.399574\n",
       "max          0.745021\n",
       "Name: weight, dtype: float64"
      ]
     },
     "execution_count": 167,
     "metadata": {},
     "output_type": "execute_result"
    }
   ],
   "source": [
    "X_test['weight'].describe()"
   ]
  },
  {
   "cell_type": "markdown",
   "metadata": {},
   "source": [
    "## Aplicando os modelos"
   ]
  },
  {
   "cell_type": "markdown",
   "metadata": {},
   "source": [
    "Para realizar o treinamento, foram escolhidos os seguintes modelos:\n",
    "\n",
    "- KNN\n",
    "- HistGradientBoostingClassifier\n",
    "- Rede Neural\n",
    "- DecisionTrees"
   ]
  },
  {
   "cell_type": "markdown",
   "metadata": {},
   "source": [
    "### Treinando os modelos"
   ]
  },
  {
   "cell_type": "code",
   "execution_count": 174,
   "metadata": {},
   "outputs": [],
   "source": [
    "from sklearn.neighbors import KNeighborsClassifier\n",
    "from sklearn.experimental import enable_hist_gradient_boosting\n",
    "from sklearn.ensemble import HistGradientBoostingClassifier, RandomForestClassifier\n",
    "from sklearn.neural_network import MLPClassifier"
   ]
  },
  {
   "cell_type": "code",
   "execution_count": 175,
   "metadata": {},
   "outputs": [],
   "source": [
    "CATEGORICAL_COLS_MASK = [True]*41 + [False]"
   ]
  },
  {
   "cell_type": "code",
   "execution_count": 176,
   "metadata": {},
   "outputs": [
    {
     "ename": "TypeError",
     "evalue": "__init__() got an unexpected keyword argument 'categorical_features'",
     "output_type": "error",
     "traceback": [
      "\u001b[1;31m---------------------------------------------------------------------------\u001b[0m",
      "\u001b[1;31mTypeError\u001b[0m                                 Traceback (most recent call last)",
      "\u001b[1;32m<ipython-input-176-742123a957bb>\u001b[0m in \u001b[0;36m<module>\u001b[1;34m\u001b[0m\n\u001b[0;32m      2\u001b[0m \u001b[1;31m#https://stackoverflow.com/a/61183983/16264901\u001b[0m\u001b[1;33m\u001b[0m\u001b[1;33m\u001b[0m\u001b[1;33m\u001b[0m\u001b[0m\n\u001b[0;32m      3\u001b[0m \u001b[0mknn_clf\u001b[0m \u001b[1;33m=\u001b[0m \u001b[0mKNeighborsClassifier\u001b[0m\u001b[1;33m(\u001b[0m\u001b[0mn_jobs\u001b[0m\u001b[1;33m=\u001b[0m\u001b[1;33m-\u001b[0m\u001b[1;36m1\u001b[0m\u001b[1;33m,\u001b[0m \u001b[0malgorithm\u001b[0m\u001b[1;33m=\u001b[0m\u001b[1;34m'ball_tree'\u001b[0m\u001b[1;33m)\u001b[0m\u001b[1;33m\u001b[0m\u001b[1;33m\u001b[0m\u001b[0m\n\u001b[1;32m----> 4\u001b[1;33m hist_clf = HistGradientBoostingClassifier(random_state=DEFAULT_RANDOM_STATE, l2_regularization=1,\n\u001b[0m\u001b[0;32m      5\u001b[0m                                         categorical_features=CATEGORICAL_COLS_MASK)\n\u001b[0;32m      6\u001b[0m \u001b[0mneural_clf\u001b[0m \u001b[1;33m=\u001b[0m \u001b[0mMLPClassifier\u001b[0m\u001b[1;33m(\u001b[0m\u001b[0msolver\u001b[0m\u001b[1;33m=\u001b[0m\u001b[1;34m'adam'\u001b[0m\u001b[1;33m,\u001b[0m \u001b[0mrandom_state\u001b[0m\u001b[1;33m=\u001b[0m\u001b[0mDEFAULT_RANDOM_STATE\u001b[0m\u001b[1;33m)\u001b[0m\u001b[1;33m\u001b[0m\u001b[1;33m\u001b[0m\u001b[0m\n",
      "\u001b[1;32m~\\anaconda3\\lib\\site-packages\\sklearn\\utils\\validation.py\u001b[0m in \u001b[0;36minner_f\u001b[1;34m(*args, **kwargs)\u001b[0m\n\u001b[0;32m     70\u001b[0m                           FutureWarning)\n\u001b[0;32m     71\u001b[0m         \u001b[0mkwargs\u001b[0m\u001b[1;33m.\u001b[0m\u001b[0mupdate\u001b[0m\u001b[1;33m(\u001b[0m\u001b[1;33m{\u001b[0m\u001b[0mk\u001b[0m\u001b[1;33m:\u001b[0m \u001b[0marg\u001b[0m \u001b[1;32mfor\u001b[0m \u001b[0mk\u001b[0m\u001b[1;33m,\u001b[0m \u001b[0marg\u001b[0m \u001b[1;32min\u001b[0m \u001b[0mzip\u001b[0m\u001b[1;33m(\u001b[0m\u001b[0msig\u001b[0m\u001b[1;33m.\u001b[0m\u001b[0mparameters\u001b[0m\u001b[1;33m,\u001b[0m \u001b[0margs\u001b[0m\u001b[1;33m)\u001b[0m\u001b[1;33m}\u001b[0m\u001b[1;33m)\u001b[0m\u001b[1;33m\u001b[0m\u001b[1;33m\u001b[0m\u001b[0m\n\u001b[1;32m---> 72\u001b[1;33m         \u001b[1;32mreturn\u001b[0m \u001b[0mf\u001b[0m\u001b[1;33m(\u001b[0m\u001b[1;33m**\u001b[0m\u001b[0mkwargs\u001b[0m\u001b[1;33m)\u001b[0m\u001b[1;33m\u001b[0m\u001b[1;33m\u001b[0m\u001b[0m\n\u001b[0m\u001b[0;32m     73\u001b[0m     \u001b[1;32mreturn\u001b[0m \u001b[0minner_f\u001b[0m\u001b[1;33m\u001b[0m\u001b[1;33m\u001b[0m\u001b[0m\n\u001b[0;32m     74\u001b[0m \u001b[1;33m\u001b[0m\u001b[0m\n",
      "\u001b[1;31mTypeError\u001b[0m: __init__() got an unexpected keyword argument 'categorical_features'"
     ]
    }
   ],
   "source": [
    "DEFAULT_RANDOM_STATE = 42\n",
    "#https://stackoverflow.com/a/61183983/16264901\n",
    "knn_clf = KNeighborsClassifier(n_jobs=-1, algorithm='ball_tree')\n",
    "hist_clf = HistGradientBoostingClassifier(random_state=DEFAULT_RANDOM_STATE, l2_regularization=1,\n",
    "                                        categorical_features=CATEGORICAL_COLS_MASK)\n",
    "neural_clf = MLPClassifier(solver='adam', random_state=DEFAULT_RANDOM_STATE)\n",
    "forest_clf = RandomForestClassifier(n_jobs=-1, random_state=DEFAULT_RANDOM_STATE)"
   ]
  },
  {
   "cell_type": "code",
   "execution_count": null,
   "metadata": {},
   "outputs": [],
   "source": []
  }
 ],
 "metadata": {
  "kernelspec": {
   "display_name": "twins",
   "language": "python",
   "name": "twins"
  },
  "language_info": {
   "codemirror_mode": {
    "name": "ipython",
    "version": 3
   },
   "file_extension": ".py",
   "mimetype": "text/x-python",
   "name": "python",
   "nbconvert_exporter": "python",
   "pygments_lexer": "ipython3",
   "version": "3.8.3"
  }
 },
 "nbformat": 4,
 "nbformat_minor": 4
}
